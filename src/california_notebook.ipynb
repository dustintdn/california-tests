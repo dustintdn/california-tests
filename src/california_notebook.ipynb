{
 "cells": [
  {
   "cell_type": "markdown",
   "metadata": {
    "id": "H1i2yFEenBM8"
   },
   "source": [
    "# California Test Scores\n",
    "\n",
    "### Data\n",
    "Url for the California Test Score Data Set from the following website:\n",
    "\n",
    "https://vincentarelbundock.github.io/Rdatasets/datasets.html\n",
    "\n",
    "Data dictionary:\n",
    "\n",
    "https://vincentarelbundock.github.io/Rdatasets/csv/Ecdat/Caschool.csv\n",
    "\n",
    "The target variable is named \"testscr\" which is the total test score. It is the summation of the reading score and math score for each student.\n",
    "\n",
    "### Research Objectives\n",
    "1. Exploratory Analysis\n",
    "Examining the dataset, how can we better understand test score characteristics through fundamental data visualization and descriptive statistics?\n",
    "\n",
    "2. Regression of California Test Scores\n",
    "Using the characteristics of California schools, can we predict test score?\n",
    "\n",
    "3. T-test/Chi-square Test\n",
    "Can we see if there is a statistically signicant difference in test scores and identify what attributes are marginalizing California test score between groups?"
   ]
  },
  {
   "cell_type": "markdown",
   "metadata": {
    "id": "C8pZjarZqiIc"
   },
   "source": [
    "**Part 1: Regression on California Test Scores**"
   ]
  },
  {
   "cell_type": "code",
   "execution_count": 2,
   "metadata": {
    "id": "rbyjDM5HwDVc"
   },
   "outputs": [],
   "source": [
    "import pandas as pd\n",
    "import numpy as np\n",
    "import matplotlib.pyplot as plt"
   ]
  },
  {
   "cell_type": "code",
   "execution_count": 3,
   "metadata": {
    "colab": {
     "base_uri": "https://localhost:8080/",
     "height": 389
    },
    "id": "-98U2_l9lP6u",
    "outputId": "0ec54e16-a8a7-4d63-cf44-6cc0da56f83c"
   },
   "outputs": [
    {
     "ename": "KeyboardInterrupt",
     "evalue": "",
     "output_type": "error",
     "traceback": [
      "\u001b[1;31m---------------------------------------------------------------------------\u001b[0m",
      "\u001b[1;31mTimeoutError\u001b[0m                              Traceback (most recent call last)",
      "\u001b[1;32m~\\AppData\\Local\\Programs\\Python\\Python39\\lib\\socket.py\u001b[0m in \u001b[0;36mcreate_connection\u001b[1;34m(address, timeout, source_address)\u001b[0m\n\u001b[0;32m    831\u001b[0m                 \u001b[0msock\u001b[0m\u001b[1;33m.\u001b[0m\u001b[0mbind\u001b[0m\u001b[1;33m(\u001b[0m\u001b[0msource_address\u001b[0m\u001b[1;33m)\u001b[0m\u001b[1;33m\u001b[0m\u001b[1;33m\u001b[0m\u001b[0m\n\u001b[1;32m--> 832\u001b[1;33m             \u001b[0msock\u001b[0m\u001b[1;33m.\u001b[0m\u001b[0mconnect\u001b[0m\u001b[1;33m(\u001b[0m\u001b[0msa\u001b[0m\u001b[1;33m)\u001b[0m\u001b[1;33m\u001b[0m\u001b[1;33m\u001b[0m\u001b[0m\n\u001b[0m\u001b[0;32m    833\u001b[0m             \u001b[1;31m# Break explicitly a reference cycle\u001b[0m\u001b[1;33m\u001b[0m\u001b[1;33m\u001b[0m\u001b[0m\n",
      "\u001b[1;31mTimeoutError\u001b[0m: [WinError 10060] A connection attempt failed because the connected party did not properly respond after a period of time, or established connection failed because connected host has failed to respond",
      "\nDuring handling of the above exception, another exception occurred:\n",
      "\u001b[1;31mKeyboardInterrupt\u001b[0m                         Traceback (most recent call last)",
      "\u001b[1;32m~\\AppData\\Local\\Temp/ipykernel_11860/1923913625.py\u001b[0m in \u001b[0;36m<module>\u001b[1;34m\u001b[0m\n\u001b[1;32m----> 1\u001b[1;33m \u001b[0mdata\u001b[0m \u001b[1;33m=\u001b[0m \u001b[0mpd\u001b[0m\u001b[1;33m.\u001b[0m\u001b[0mread_csv\u001b[0m\u001b[1;33m(\u001b[0m\u001b[1;34m\"https://vincentarelbundock.github.io/Rdatasets/csv/Ecdat/Caschool.csv\"\u001b[0m\u001b[1;33m,\u001b[0m \u001b[0msep\u001b[0m\u001b[1;33m=\u001b[0m\u001b[1;34m','\u001b[0m\u001b[1;33m,\u001b[0m \u001b[0mindex_col\u001b[0m\u001b[1;33m=\u001b[0m\u001b[1;36m0\u001b[0m\u001b[1;33m)\u001b[0m\u001b[1;33m\u001b[0m\u001b[1;33m\u001b[0m\u001b[0m\n\u001b[0m\u001b[0;32m      2\u001b[0m \u001b[0mdata\u001b[0m\u001b[1;33m.\u001b[0m\u001b[0mhead\u001b[0m\u001b[1;33m(\u001b[0m\u001b[1;33m)\u001b[0m\u001b[1;33m\u001b[0m\u001b[1;33m\u001b[0m\u001b[0m\n",
      "\u001b[1;32m~\\AppData\\Local\\Programs\\Python\\Python39\\lib\\site-packages\\pandas\\util\\_decorators.py\u001b[0m in \u001b[0;36mwrapper\u001b[1;34m(*args, **kwargs)\u001b[0m\n\u001b[0;32m    309\u001b[0m                     \u001b[0mstacklevel\u001b[0m\u001b[1;33m=\u001b[0m\u001b[0mstacklevel\u001b[0m\u001b[1;33m,\u001b[0m\u001b[1;33m\u001b[0m\u001b[1;33m\u001b[0m\u001b[0m\n\u001b[0;32m    310\u001b[0m                 )\n\u001b[1;32m--> 311\u001b[1;33m             \u001b[1;32mreturn\u001b[0m \u001b[0mfunc\u001b[0m\u001b[1;33m(\u001b[0m\u001b[1;33m*\u001b[0m\u001b[0margs\u001b[0m\u001b[1;33m,\u001b[0m \u001b[1;33m**\u001b[0m\u001b[0mkwargs\u001b[0m\u001b[1;33m)\u001b[0m\u001b[1;33m\u001b[0m\u001b[1;33m\u001b[0m\u001b[0m\n\u001b[0m\u001b[0;32m    312\u001b[0m \u001b[1;33m\u001b[0m\u001b[0m\n\u001b[0;32m    313\u001b[0m         \u001b[1;32mreturn\u001b[0m \u001b[0mwrapper\u001b[0m\u001b[1;33m\u001b[0m\u001b[1;33m\u001b[0m\u001b[0m\n",
      "\u001b[1;32m~\\AppData\\Local\\Programs\\Python\\Python39\\lib\\site-packages\\pandas\\io\\parsers\\readers.py\u001b[0m in \u001b[0;36mread_csv\u001b[1;34m(filepath_or_buffer, sep, delimiter, header, names, index_col, usecols, squeeze, prefix, mangle_dupe_cols, dtype, engine, converters, true_values, false_values, skipinitialspace, skiprows, skipfooter, nrows, na_values, keep_default_na, na_filter, verbose, skip_blank_lines, parse_dates, infer_datetime_format, keep_date_col, date_parser, dayfirst, cache_dates, iterator, chunksize, compression, thousands, decimal, lineterminator, quotechar, quoting, doublequote, escapechar, comment, encoding, encoding_errors, dialect, error_bad_lines, warn_bad_lines, on_bad_lines, delim_whitespace, low_memory, memory_map, float_precision, storage_options)\u001b[0m\n\u001b[0;32m    678\u001b[0m     \u001b[0mkwds\u001b[0m\u001b[1;33m.\u001b[0m\u001b[0mupdate\u001b[0m\u001b[1;33m(\u001b[0m\u001b[0mkwds_defaults\u001b[0m\u001b[1;33m)\u001b[0m\u001b[1;33m\u001b[0m\u001b[1;33m\u001b[0m\u001b[0m\n\u001b[0;32m    679\u001b[0m \u001b[1;33m\u001b[0m\u001b[0m\n\u001b[1;32m--> 680\u001b[1;33m     \u001b[1;32mreturn\u001b[0m \u001b[0m_read\u001b[0m\u001b[1;33m(\u001b[0m\u001b[0mfilepath_or_buffer\u001b[0m\u001b[1;33m,\u001b[0m \u001b[0mkwds\u001b[0m\u001b[1;33m)\u001b[0m\u001b[1;33m\u001b[0m\u001b[1;33m\u001b[0m\u001b[0m\n\u001b[0m\u001b[0;32m    681\u001b[0m \u001b[1;33m\u001b[0m\u001b[0m\n\u001b[0;32m    682\u001b[0m \u001b[1;33m\u001b[0m\u001b[0m\n",
      "\u001b[1;32m~\\AppData\\Local\\Programs\\Python\\Python39\\lib\\site-packages\\pandas\\io\\parsers\\readers.py\u001b[0m in \u001b[0;36m_read\u001b[1;34m(filepath_or_buffer, kwds)\u001b[0m\n\u001b[0;32m    573\u001b[0m \u001b[1;33m\u001b[0m\u001b[0m\n\u001b[0;32m    574\u001b[0m     \u001b[1;31m# Create the parser.\u001b[0m\u001b[1;33m\u001b[0m\u001b[1;33m\u001b[0m\u001b[0m\n\u001b[1;32m--> 575\u001b[1;33m     \u001b[0mparser\u001b[0m \u001b[1;33m=\u001b[0m \u001b[0mTextFileReader\u001b[0m\u001b[1;33m(\u001b[0m\u001b[0mfilepath_or_buffer\u001b[0m\u001b[1;33m,\u001b[0m \u001b[1;33m**\u001b[0m\u001b[0mkwds\u001b[0m\u001b[1;33m)\u001b[0m\u001b[1;33m\u001b[0m\u001b[1;33m\u001b[0m\u001b[0m\n\u001b[0m\u001b[0;32m    576\u001b[0m \u001b[1;33m\u001b[0m\u001b[0m\n\u001b[0;32m    577\u001b[0m     \u001b[1;32mif\u001b[0m \u001b[0mchunksize\u001b[0m \u001b[1;32mor\u001b[0m \u001b[0miterator\u001b[0m\u001b[1;33m:\u001b[0m\u001b[1;33m\u001b[0m\u001b[1;33m\u001b[0m\u001b[0m\n",
      "\u001b[1;32m~\\AppData\\Local\\Programs\\Python\\Python39\\lib\\site-packages\\pandas\\io\\parsers\\readers.py\u001b[0m in \u001b[0;36m__init__\u001b[1;34m(self, f, engine, **kwds)\u001b[0m\n\u001b[0;32m    931\u001b[0m \u001b[1;33m\u001b[0m\u001b[0m\n\u001b[0;32m    932\u001b[0m         \u001b[0mself\u001b[0m\u001b[1;33m.\u001b[0m\u001b[0mhandles\u001b[0m\u001b[1;33m:\u001b[0m \u001b[0mIOHandles\u001b[0m \u001b[1;33m|\u001b[0m \u001b[1;32mNone\u001b[0m \u001b[1;33m=\u001b[0m \u001b[1;32mNone\u001b[0m\u001b[1;33m\u001b[0m\u001b[1;33m\u001b[0m\u001b[0m\n\u001b[1;32m--> 933\u001b[1;33m         \u001b[0mself\u001b[0m\u001b[1;33m.\u001b[0m\u001b[0m_engine\u001b[0m \u001b[1;33m=\u001b[0m \u001b[0mself\u001b[0m\u001b[1;33m.\u001b[0m\u001b[0m_make_engine\u001b[0m\u001b[1;33m(\u001b[0m\u001b[0mf\u001b[0m\u001b[1;33m,\u001b[0m \u001b[0mself\u001b[0m\u001b[1;33m.\u001b[0m\u001b[0mengine\u001b[0m\u001b[1;33m)\u001b[0m\u001b[1;33m\u001b[0m\u001b[1;33m\u001b[0m\u001b[0m\n\u001b[0m\u001b[0;32m    934\u001b[0m \u001b[1;33m\u001b[0m\u001b[0m\n\u001b[0;32m    935\u001b[0m     \u001b[1;32mdef\u001b[0m \u001b[0mclose\u001b[0m\u001b[1;33m(\u001b[0m\u001b[0mself\u001b[0m\u001b[1;33m)\u001b[0m\u001b[1;33m:\u001b[0m\u001b[1;33m\u001b[0m\u001b[1;33m\u001b[0m\u001b[0m\n",
      "\u001b[1;32m~\\AppData\\Local\\Programs\\Python\\Python39\\lib\\site-packages\\pandas\\io\\parsers\\readers.py\u001b[0m in \u001b[0;36m_make_engine\u001b[1;34m(self, f, engine)\u001b[0m\n\u001b[0;32m   1215\u001b[0m             \u001b[1;31m# \"Union[str, PathLike[str], ReadCsvBuffer[bytes], ReadCsvBuffer[str]]\"\u001b[0m\u001b[1;33m\u001b[0m\u001b[1;33m\u001b[0m\u001b[0m\n\u001b[0;32m   1216\u001b[0m             \u001b[1;31m# , \"str\", \"bool\", \"Any\", \"Any\", \"Any\", \"Any\", \"Any\"\u001b[0m\u001b[1;33m\u001b[0m\u001b[1;33m\u001b[0m\u001b[0m\n\u001b[1;32m-> 1217\u001b[1;33m             self.handles = get_handle(  # type: ignore[call-overload]\n\u001b[0m\u001b[0;32m   1218\u001b[0m                 \u001b[0mf\u001b[0m\u001b[1;33m,\u001b[0m\u001b[1;33m\u001b[0m\u001b[1;33m\u001b[0m\u001b[0m\n\u001b[0;32m   1219\u001b[0m                 \u001b[0mmode\u001b[0m\u001b[1;33m,\u001b[0m\u001b[1;33m\u001b[0m\u001b[1;33m\u001b[0m\u001b[0m\n",
      "\u001b[1;32m~\\AppData\\Local\\Programs\\Python\\Python39\\lib\\site-packages\\pandas\\io\\common.py\u001b[0m in \u001b[0;36mget_handle\u001b[1;34m(path_or_buf, mode, encoding, compression, memory_map, is_text, errors, storage_options)\u001b[0m\n\u001b[0;32m    668\u001b[0m \u001b[1;33m\u001b[0m\u001b[0m\n\u001b[0;32m    669\u001b[0m     \u001b[1;31m# open URLs\u001b[0m\u001b[1;33m\u001b[0m\u001b[1;33m\u001b[0m\u001b[0m\n\u001b[1;32m--> 670\u001b[1;33m     ioargs = _get_filepath_or_buffer(\n\u001b[0m\u001b[0;32m    671\u001b[0m         \u001b[0mpath_or_buf\u001b[0m\u001b[1;33m,\u001b[0m\u001b[1;33m\u001b[0m\u001b[1;33m\u001b[0m\u001b[0m\n\u001b[0;32m    672\u001b[0m         \u001b[0mencoding\u001b[0m\u001b[1;33m=\u001b[0m\u001b[0mencoding\u001b[0m\u001b[1;33m,\u001b[0m\u001b[1;33m\u001b[0m\u001b[1;33m\u001b[0m\u001b[0m\n",
      "\u001b[1;32m~\\AppData\\Local\\Programs\\Python\\Python39\\lib\\site-packages\\pandas\\io\\common.py\u001b[0m in \u001b[0;36m_get_filepath_or_buffer\u001b[1;34m(filepath_or_buffer, encoding, compression, mode, storage_options)\u001b[0m\n\u001b[0;32m    337\u001b[0m         \u001b[1;31m# assuming storage_options is to be interpreted as headers\u001b[0m\u001b[1;33m\u001b[0m\u001b[1;33m\u001b[0m\u001b[0m\n\u001b[0;32m    338\u001b[0m         \u001b[0mreq_info\u001b[0m \u001b[1;33m=\u001b[0m \u001b[0murllib\u001b[0m\u001b[1;33m.\u001b[0m\u001b[0mrequest\u001b[0m\u001b[1;33m.\u001b[0m\u001b[0mRequest\u001b[0m\u001b[1;33m(\u001b[0m\u001b[0mfilepath_or_buffer\u001b[0m\u001b[1;33m,\u001b[0m \u001b[0mheaders\u001b[0m\u001b[1;33m=\u001b[0m\u001b[0mstorage_options\u001b[0m\u001b[1;33m)\u001b[0m\u001b[1;33m\u001b[0m\u001b[1;33m\u001b[0m\u001b[0m\n\u001b[1;32m--> 339\u001b[1;33m         \u001b[1;32mwith\u001b[0m \u001b[0murlopen\u001b[0m\u001b[1;33m(\u001b[0m\u001b[0mreq_info\u001b[0m\u001b[1;33m)\u001b[0m \u001b[1;32mas\u001b[0m \u001b[0mreq\u001b[0m\u001b[1;33m:\u001b[0m\u001b[1;33m\u001b[0m\u001b[1;33m\u001b[0m\u001b[0m\n\u001b[0m\u001b[0;32m    340\u001b[0m             \u001b[0mcontent_encoding\u001b[0m \u001b[1;33m=\u001b[0m \u001b[0mreq\u001b[0m\u001b[1;33m.\u001b[0m\u001b[0mheaders\u001b[0m\u001b[1;33m.\u001b[0m\u001b[0mget\u001b[0m\u001b[1;33m(\u001b[0m\u001b[1;34m\"Content-Encoding\"\u001b[0m\u001b[1;33m,\u001b[0m \u001b[1;32mNone\u001b[0m\u001b[1;33m)\u001b[0m\u001b[1;33m\u001b[0m\u001b[1;33m\u001b[0m\u001b[0m\n\u001b[0;32m    341\u001b[0m             \u001b[1;32mif\u001b[0m \u001b[0mcontent_encoding\u001b[0m \u001b[1;33m==\u001b[0m \u001b[1;34m\"gzip\"\u001b[0m\u001b[1;33m:\u001b[0m\u001b[1;33m\u001b[0m\u001b[1;33m\u001b[0m\u001b[0m\n",
      "\u001b[1;32m~\\AppData\\Local\\Programs\\Python\\Python39\\lib\\site-packages\\pandas\\io\\common.py\u001b[0m in \u001b[0;36murlopen\u001b[1;34m(*args, **kwargs)\u001b[0m\n\u001b[0;32m    237\u001b[0m     \u001b[1;32mimport\u001b[0m \u001b[0murllib\u001b[0m\u001b[1;33m.\u001b[0m\u001b[0mrequest\u001b[0m\u001b[1;33m\u001b[0m\u001b[1;33m\u001b[0m\u001b[0m\n\u001b[0;32m    238\u001b[0m \u001b[1;33m\u001b[0m\u001b[0m\n\u001b[1;32m--> 239\u001b[1;33m     \u001b[1;32mreturn\u001b[0m \u001b[0murllib\u001b[0m\u001b[1;33m.\u001b[0m\u001b[0mrequest\u001b[0m\u001b[1;33m.\u001b[0m\u001b[0murlopen\u001b[0m\u001b[1;33m(\u001b[0m\u001b[1;33m*\u001b[0m\u001b[0margs\u001b[0m\u001b[1;33m,\u001b[0m \u001b[1;33m**\u001b[0m\u001b[0mkwargs\u001b[0m\u001b[1;33m)\u001b[0m\u001b[1;33m\u001b[0m\u001b[1;33m\u001b[0m\u001b[0m\n\u001b[0m\u001b[0;32m    240\u001b[0m \u001b[1;33m\u001b[0m\u001b[0m\n\u001b[0;32m    241\u001b[0m \u001b[1;33m\u001b[0m\u001b[0m\n",
      "\u001b[1;32m~\\AppData\\Local\\Programs\\Python\\Python39\\lib\\urllib\\request.py\u001b[0m in \u001b[0;36murlopen\u001b[1;34m(url, data, timeout, cafile, capath, cadefault, context)\u001b[0m\n\u001b[0;32m    212\u001b[0m     \u001b[1;32melse\u001b[0m\u001b[1;33m:\u001b[0m\u001b[1;33m\u001b[0m\u001b[1;33m\u001b[0m\u001b[0m\n\u001b[0;32m    213\u001b[0m         \u001b[0mopener\u001b[0m \u001b[1;33m=\u001b[0m \u001b[0m_opener\u001b[0m\u001b[1;33m\u001b[0m\u001b[1;33m\u001b[0m\u001b[0m\n\u001b[1;32m--> 214\u001b[1;33m     \u001b[1;32mreturn\u001b[0m \u001b[0mopener\u001b[0m\u001b[1;33m.\u001b[0m\u001b[0mopen\u001b[0m\u001b[1;33m(\u001b[0m\u001b[0murl\u001b[0m\u001b[1;33m,\u001b[0m \u001b[0mdata\u001b[0m\u001b[1;33m,\u001b[0m \u001b[0mtimeout\u001b[0m\u001b[1;33m)\u001b[0m\u001b[1;33m\u001b[0m\u001b[1;33m\u001b[0m\u001b[0m\n\u001b[0m\u001b[0;32m    215\u001b[0m \u001b[1;33m\u001b[0m\u001b[0m\n\u001b[0;32m    216\u001b[0m \u001b[1;32mdef\u001b[0m \u001b[0minstall_opener\u001b[0m\u001b[1;33m(\u001b[0m\u001b[0mopener\u001b[0m\u001b[1;33m)\u001b[0m\u001b[1;33m:\u001b[0m\u001b[1;33m\u001b[0m\u001b[1;33m\u001b[0m\u001b[0m\n",
      "\u001b[1;32m~\\AppData\\Local\\Programs\\Python\\Python39\\lib\\urllib\\request.py\u001b[0m in \u001b[0;36mopen\u001b[1;34m(self, fullurl, data, timeout)\u001b[0m\n\u001b[0;32m    515\u001b[0m \u001b[1;33m\u001b[0m\u001b[0m\n\u001b[0;32m    516\u001b[0m         \u001b[0msys\u001b[0m\u001b[1;33m.\u001b[0m\u001b[0maudit\u001b[0m\u001b[1;33m(\u001b[0m\u001b[1;34m'urllib.Request'\u001b[0m\u001b[1;33m,\u001b[0m \u001b[0mreq\u001b[0m\u001b[1;33m.\u001b[0m\u001b[0mfull_url\u001b[0m\u001b[1;33m,\u001b[0m \u001b[0mreq\u001b[0m\u001b[1;33m.\u001b[0m\u001b[0mdata\u001b[0m\u001b[1;33m,\u001b[0m \u001b[0mreq\u001b[0m\u001b[1;33m.\u001b[0m\u001b[0mheaders\u001b[0m\u001b[1;33m,\u001b[0m \u001b[0mreq\u001b[0m\u001b[1;33m.\u001b[0m\u001b[0mget_method\u001b[0m\u001b[1;33m(\u001b[0m\u001b[1;33m)\u001b[0m\u001b[1;33m)\u001b[0m\u001b[1;33m\u001b[0m\u001b[1;33m\u001b[0m\u001b[0m\n\u001b[1;32m--> 517\u001b[1;33m         \u001b[0mresponse\u001b[0m \u001b[1;33m=\u001b[0m \u001b[0mself\u001b[0m\u001b[1;33m.\u001b[0m\u001b[0m_open\u001b[0m\u001b[1;33m(\u001b[0m\u001b[0mreq\u001b[0m\u001b[1;33m,\u001b[0m \u001b[0mdata\u001b[0m\u001b[1;33m)\u001b[0m\u001b[1;33m\u001b[0m\u001b[1;33m\u001b[0m\u001b[0m\n\u001b[0m\u001b[0;32m    518\u001b[0m \u001b[1;33m\u001b[0m\u001b[0m\n\u001b[0;32m    519\u001b[0m         \u001b[1;31m# post-process response\u001b[0m\u001b[1;33m\u001b[0m\u001b[1;33m\u001b[0m\u001b[0m\n",
      "\u001b[1;32m~\\AppData\\Local\\Programs\\Python\\Python39\\lib\\urllib\\request.py\u001b[0m in \u001b[0;36m_open\u001b[1;34m(self, req, data)\u001b[0m\n\u001b[0;32m    532\u001b[0m \u001b[1;33m\u001b[0m\u001b[0m\n\u001b[0;32m    533\u001b[0m         \u001b[0mprotocol\u001b[0m \u001b[1;33m=\u001b[0m \u001b[0mreq\u001b[0m\u001b[1;33m.\u001b[0m\u001b[0mtype\u001b[0m\u001b[1;33m\u001b[0m\u001b[1;33m\u001b[0m\u001b[0m\n\u001b[1;32m--> 534\u001b[1;33m         result = self._call_chain(self.handle_open, protocol, protocol +\n\u001b[0m\u001b[0;32m    535\u001b[0m                                   '_open', req)\n\u001b[0;32m    536\u001b[0m         \u001b[1;32mif\u001b[0m \u001b[0mresult\u001b[0m\u001b[1;33m:\u001b[0m\u001b[1;33m\u001b[0m\u001b[1;33m\u001b[0m\u001b[0m\n",
      "\u001b[1;32m~\\AppData\\Local\\Programs\\Python\\Python39\\lib\\urllib\\request.py\u001b[0m in \u001b[0;36m_call_chain\u001b[1;34m(self, chain, kind, meth_name, *args)\u001b[0m\n\u001b[0;32m    492\u001b[0m         \u001b[1;32mfor\u001b[0m \u001b[0mhandler\u001b[0m \u001b[1;32min\u001b[0m \u001b[0mhandlers\u001b[0m\u001b[1;33m:\u001b[0m\u001b[1;33m\u001b[0m\u001b[1;33m\u001b[0m\u001b[0m\n\u001b[0;32m    493\u001b[0m             \u001b[0mfunc\u001b[0m \u001b[1;33m=\u001b[0m \u001b[0mgetattr\u001b[0m\u001b[1;33m(\u001b[0m\u001b[0mhandler\u001b[0m\u001b[1;33m,\u001b[0m \u001b[0mmeth_name\u001b[0m\u001b[1;33m)\u001b[0m\u001b[1;33m\u001b[0m\u001b[1;33m\u001b[0m\u001b[0m\n\u001b[1;32m--> 494\u001b[1;33m             \u001b[0mresult\u001b[0m \u001b[1;33m=\u001b[0m \u001b[0mfunc\u001b[0m\u001b[1;33m(\u001b[0m\u001b[1;33m*\u001b[0m\u001b[0margs\u001b[0m\u001b[1;33m)\u001b[0m\u001b[1;33m\u001b[0m\u001b[1;33m\u001b[0m\u001b[0m\n\u001b[0m\u001b[0;32m    495\u001b[0m             \u001b[1;32mif\u001b[0m \u001b[0mresult\u001b[0m \u001b[1;32mis\u001b[0m \u001b[1;32mnot\u001b[0m \u001b[1;32mNone\u001b[0m\u001b[1;33m:\u001b[0m\u001b[1;33m\u001b[0m\u001b[1;33m\u001b[0m\u001b[0m\n\u001b[0;32m    496\u001b[0m                 \u001b[1;32mreturn\u001b[0m \u001b[0mresult\u001b[0m\u001b[1;33m\u001b[0m\u001b[1;33m\u001b[0m\u001b[0m\n",
      "\u001b[1;32m~\\AppData\\Local\\Programs\\Python\\Python39\\lib\\urllib\\request.py\u001b[0m in \u001b[0;36mhttps_open\u001b[1;34m(self, req)\u001b[0m\n\u001b[0;32m   1387\u001b[0m \u001b[1;33m\u001b[0m\u001b[0m\n\u001b[0;32m   1388\u001b[0m         \u001b[1;32mdef\u001b[0m \u001b[0mhttps_open\u001b[0m\u001b[1;33m(\u001b[0m\u001b[0mself\u001b[0m\u001b[1;33m,\u001b[0m \u001b[0mreq\u001b[0m\u001b[1;33m)\u001b[0m\u001b[1;33m:\u001b[0m\u001b[1;33m\u001b[0m\u001b[1;33m\u001b[0m\u001b[0m\n\u001b[1;32m-> 1389\u001b[1;33m             return self.do_open(http.client.HTTPSConnection, req,\n\u001b[0m\u001b[0;32m   1390\u001b[0m                 context=self._context, check_hostname=self._check_hostname)\n\u001b[0;32m   1391\u001b[0m \u001b[1;33m\u001b[0m\u001b[0m\n",
      "\u001b[1;32m~\\AppData\\Local\\Programs\\Python\\Python39\\lib\\urllib\\request.py\u001b[0m in \u001b[0;36mdo_open\u001b[1;34m(self, http_class, req, **http_conn_args)\u001b[0m\n\u001b[0;32m   1344\u001b[0m         \u001b[1;32mtry\u001b[0m\u001b[1;33m:\u001b[0m\u001b[1;33m\u001b[0m\u001b[1;33m\u001b[0m\u001b[0m\n\u001b[0;32m   1345\u001b[0m             \u001b[1;32mtry\u001b[0m\u001b[1;33m:\u001b[0m\u001b[1;33m\u001b[0m\u001b[1;33m\u001b[0m\u001b[0m\n\u001b[1;32m-> 1346\u001b[1;33m                 h.request(req.get_method(), req.selector, req.data, headers,\n\u001b[0m\u001b[0;32m   1347\u001b[0m                           encode_chunked=req.has_header('Transfer-encoding'))\n\u001b[0;32m   1348\u001b[0m             \u001b[1;32mexcept\u001b[0m \u001b[0mOSError\u001b[0m \u001b[1;32mas\u001b[0m \u001b[0merr\u001b[0m\u001b[1;33m:\u001b[0m \u001b[1;31m# timeout error\u001b[0m\u001b[1;33m\u001b[0m\u001b[1;33m\u001b[0m\u001b[0m\n",
      "\u001b[1;32m~\\AppData\\Local\\Programs\\Python\\Python39\\lib\\http\\client.py\u001b[0m in \u001b[0;36mrequest\u001b[1;34m(self, method, url, body, headers, encode_chunked)\u001b[0m\n\u001b[0;32m   1277\u001b[0m                 encode_chunked=False):\n\u001b[0;32m   1278\u001b[0m         \u001b[1;34m\"\"\"Send a complete request to the server.\"\"\"\u001b[0m\u001b[1;33m\u001b[0m\u001b[1;33m\u001b[0m\u001b[0m\n\u001b[1;32m-> 1279\u001b[1;33m         \u001b[0mself\u001b[0m\u001b[1;33m.\u001b[0m\u001b[0m_send_request\u001b[0m\u001b[1;33m(\u001b[0m\u001b[0mmethod\u001b[0m\u001b[1;33m,\u001b[0m \u001b[0murl\u001b[0m\u001b[1;33m,\u001b[0m \u001b[0mbody\u001b[0m\u001b[1;33m,\u001b[0m \u001b[0mheaders\u001b[0m\u001b[1;33m,\u001b[0m \u001b[0mencode_chunked\u001b[0m\u001b[1;33m)\u001b[0m\u001b[1;33m\u001b[0m\u001b[1;33m\u001b[0m\u001b[0m\n\u001b[0m\u001b[0;32m   1280\u001b[0m \u001b[1;33m\u001b[0m\u001b[0m\n\u001b[0;32m   1281\u001b[0m     \u001b[1;32mdef\u001b[0m \u001b[0m_send_request\u001b[0m\u001b[1;33m(\u001b[0m\u001b[0mself\u001b[0m\u001b[1;33m,\u001b[0m \u001b[0mmethod\u001b[0m\u001b[1;33m,\u001b[0m \u001b[0murl\u001b[0m\u001b[1;33m,\u001b[0m \u001b[0mbody\u001b[0m\u001b[1;33m,\u001b[0m \u001b[0mheaders\u001b[0m\u001b[1;33m,\u001b[0m \u001b[0mencode_chunked\u001b[0m\u001b[1;33m)\u001b[0m\u001b[1;33m:\u001b[0m\u001b[1;33m\u001b[0m\u001b[1;33m\u001b[0m\u001b[0m\n",
      "\u001b[1;32m~\\AppData\\Local\\Programs\\Python\\Python39\\lib\\http\\client.py\u001b[0m in \u001b[0;36m_send_request\u001b[1;34m(self, method, url, body, headers, encode_chunked)\u001b[0m\n\u001b[0;32m   1323\u001b[0m             \u001b[1;31m# default charset of iso-8859-1.\u001b[0m\u001b[1;33m\u001b[0m\u001b[1;33m\u001b[0m\u001b[0m\n\u001b[0;32m   1324\u001b[0m             \u001b[0mbody\u001b[0m \u001b[1;33m=\u001b[0m \u001b[0m_encode\u001b[0m\u001b[1;33m(\u001b[0m\u001b[0mbody\u001b[0m\u001b[1;33m,\u001b[0m \u001b[1;34m'body'\u001b[0m\u001b[1;33m)\u001b[0m\u001b[1;33m\u001b[0m\u001b[1;33m\u001b[0m\u001b[0m\n\u001b[1;32m-> 1325\u001b[1;33m         \u001b[0mself\u001b[0m\u001b[1;33m.\u001b[0m\u001b[0mendheaders\u001b[0m\u001b[1;33m(\u001b[0m\u001b[0mbody\u001b[0m\u001b[1;33m,\u001b[0m \u001b[0mencode_chunked\u001b[0m\u001b[1;33m=\u001b[0m\u001b[0mencode_chunked\u001b[0m\u001b[1;33m)\u001b[0m\u001b[1;33m\u001b[0m\u001b[1;33m\u001b[0m\u001b[0m\n\u001b[0m\u001b[0;32m   1326\u001b[0m \u001b[1;33m\u001b[0m\u001b[0m\n\u001b[0;32m   1327\u001b[0m     \u001b[1;32mdef\u001b[0m \u001b[0mgetresponse\u001b[0m\u001b[1;33m(\u001b[0m\u001b[0mself\u001b[0m\u001b[1;33m)\u001b[0m\u001b[1;33m:\u001b[0m\u001b[1;33m\u001b[0m\u001b[1;33m\u001b[0m\u001b[0m\n",
      "\u001b[1;32m~\\AppData\\Local\\Programs\\Python\\Python39\\lib\\http\\client.py\u001b[0m in \u001b[0;36mendheaders\u001b[1;34m(self, message_body, encode_chunked)\u001b[0m\n\u001b[0;32m   1272\u001b[0m         \u001b[1;32melse\u001b[0m\u001b[1;33m:\u001b[0m\u001b[1;33m\u001b[0m\u001b[1;33m\u001b[0m\u001b[0m\n\u001b[0;32m   1273\u001b[0m             \u001b[1;32mraise\u001b[0m \u001b[0mCannotSendHeader\u001b[0m\u001b[1;33m(\u001b[0m\u001b[1;33m)\u001b[0m\u001b[1;33m\u001b[0m\u001b[1;33m\u001b[0m\u001b[0m\n\u001b[1;32m-> 1274\u001b[1;33m         \u001b[0mself\u001b[0m\u001b[1;33m.\u001b[0m\u001b[0m_send_output\u001b[0m\u001b[1;33m(\u001b[0m\u001b[0mmessage_body\u001b[0m\u001b[1;33m,\u001b[0m \u001b[0mencode_chunked\u001b[0m\u001b[1;33m=\u001b[0m\u001b[0mencode_chunked\u001b[0m\u001b[1;33m)\u001b[0m\u001b[1;33m\u001b[0m\u001b[1;33m\u001b[0m\u001b[0m\n\u001b[0m\u001b[0;32m   1275\u001b[0m \u001b[1;33m\u001b[0m\u001b[0m\n\u001b[0;32m   1276\u001b[0m     def request(self, method, url, body=None, headers={}, *,\n",
      "\u001b[1;32m~\\AppData\\Local\\Programs\\Python\\Python39\\lib\\http\\client.py\u001b[0m in \u001b[0;36m_send_output\u001b[1;34m(self, message_body, encode_chunked)\u001b[0m\n\u001b[0;32m   1032\u001b[0m         \u001b[0mmsg\u001b[0m \u001b[1;33m=\u001b[0m \u001b[1;34mb\"\\r\\n\"\u001b[0m\u001b[1;33m.\u001b[0m\u001b[0mjoin\u001b[0m\u001b[1;33m(\u001b[0m\u001b[0mself\u001b[0m\u001b[1;33m.\u001b[0m\u001b[0m_buffer\u001b[0m\u001b[1;33m)\u001b[0m\u001b[1;33m\u001b[0m\u001b[1;33m\u001b[0m\u001b[0m\n\u001b[0;32m   1033\u001b[0m         \u001b[1;32mdel\u001b[0m \u001b[0mself\u001b[0m\u001b[1;33m.\u001b[0m\u001b[0m_buffer\u001b[0m\u001b[1;33m[\u001b[0m\u001b[1;33m:\u001b[0m\u001b[1;33m]\u001b[0m\u001b[1;33m\u001b[0m\u001b[1;33m\u001b[0m\u001b[0m\n\u001b[1;32m-> 1034\u001b[1;33m         \u001b[0mself\u001b[0m\u001b[1;33m.\u001b[0m\u001b[0msend\u001b[0m\u001b[1;33m(\u001b[0m\u001b[0mmsg\u001b[0m\u001b[1;33m)\u001b[0m\u001b[1;33m\u001b[0m\u001b[1;33m\u001b[0m\u001b[0m\n\u001b[0m\u001b[0;32m   1035\u001b[0m \u001b[1;33m\u001b[0m\u001b[0m\n\u001b[0;32m   1036\u001b[0m         \u001b[1;32mif\u001b[0m \u001b[0mmessage_body\u001b[0m \u001b[1;32mis\u001b[0m \u001b[1;32mnot\u001b[0m \u001b[1;32mNone\u001b[0m\u001b[1;33m:\u001b[0m\u001b[1;33m\u001b[0m\u001b[1;33m\u001b[0m\u001b[0m\n",
      "\u001b[1;32m~\\AppData\\Local\\Programs\\Python\\Python39\\lib\\http\\client.py\u001b[0m in \u001b[0;36msend\u001b[1;34m(self, data)\u001b[0m\n\u001b[0;32m    972\u001b[0m         \u001b[1;32mif\u001b[0m \u001b[0mself\u001b[0m\u001b[1;33m.\u001b[0m\u001b[0msock\u001b[0m \u001b[1;32mis\u001b[0m \u001b[1;32mNone\u001b[0m\u001b[1;33m:\u001b[0m\u001b[1;33m\u001b[0m\u001b[1;33m\u001b[0m\u001b[0m\n\u001b[0;32m    973\u001b[0m             \u001b[1;32mif\u001b[0m \u001b[0mself\u001b[0m\u001b[1;33m.\u001b[0m\u001b[0mauto_open\u001b[0m\u001b[1;33m:\u001b[0m\u001b[1;33m\u001b[0m\u001b[1;33m\u001b[0m\u001b[0m\n\u001b[1;32m--> 974\u001b[1;33m                 \u001b[0mself\u001b[0m\u001b[1;33m.\u001b[0m\u001b[0mconnect\u001b[0m\u001b[1;33m(\u001b[0m\u001b[1;33m)\u001b[0m\u001b[1;33m\u001b[0m\u001b[1;33m\u001b[0m\u001b[0m\n\u001b[0m\u001b[0;32m    975\u001b[0m             \u001b[1;32melse\u001b[0m\u001b[1;33m:\u001b[0m\u001b[1;33m\u001b[0m\u001b[1;33m\u001b[0m\u001b[0m\n\u001b[0;32m    976\u001b[0m                 \u001b[1;32mraise\u001b[0m \u001b[0mNotConnected\u001b[0m\u001b[1;33m(\u001b[0m\u001b[1;33m)\u001b[0m\u001b[1;33m\u001b[0m\u001b[1;33m\u001b[0m\u001b[0m\n",
      "\u001b[1;32m~\\AppData\\Local\\Programs\\Python\\Python39\\lib\\http\\client.py\u001b[0m in \u001b[0;36mconnect\u001b[1;34m(self)\u001b[0m\n\u001b[0;32m   1439\u001b[0m             \u001b[1;34m\"Connect to a host on a given (SSL) port.\"\u001b[0m\u001b[1;33m\u001b[0m\u001b[1;33m\u001b[0m\u001b[0m\n\u001b[0;32m   1440\u001b[0m \u001b[1;33m\u001b[0m\u001b[0m\n\u001b[1;32m-> 1441\u001b[1;33m             \u001b[0msuper\u001b[0m\u001b[1;33m(\u001b[0m\u001b[1;33m)\u001b[0m\u001b[1;33m.\u001b[0m\u001b[0mconnect\u001b[0m\u001b[1;33m(\u001b[0m\u001b[1;33m)\u001b[0m\u001b[1;33m\u001b[0m\u001b[1;33m\u001b[0m\u001b[0m\n\u001b[0m\u001b[0;32m   1442\u001b[0m \u001b[1;33m\u001b[0m\u001b[0m\n\u001b[0;32m   1443\u001b[0m             \u001b[1;32mif\u001b[0m \u001b[0mself\u001b[0m\u001b[1;33m.\u001b[0m\u001b[0m_tunnel_host\u001b[0m\u001b[1;33m:\u001b[0m\u001b[1;33m\u001b[0m\u001b[1;33m\u001b[0m\u001b[0m\n",
      "\u001b[1;32m~\\AppData\\Local\\Programs\\Python\\Python39\\lib\\http\\client.py\u001b[0m in \u001b[0;36mconnect\u001b[1;34m(self)\u001b[0m\n\u001b[0;32m    943\u001b[0m     \u001b[1;32mdef\u001b[0m \u001b[0mconnect\u001b[0m\u001b[1;33m(\u001b[0m\u001b[0mself\u001b[0m\u001b[1;33m)\u001b[0m\u001b[1;33m:\u001b[0m\u001b[1;33m\u001b[0m\u001b[1;33m\u001b[0m\u001b[0m\n\u001b[0;32m    944\u001b[0m         \u001b[1;34m\"\"\"Connect to the host and port specified in __init__.\"\"\"\u001b[0m\u001b[1;33m\u001b[0m\u001b[1;33m\u001b[0m\u001b[0m\n\u001b[1;32m--> 945\u001b[1;33m         self.sock = self._create_connection(\n\u001b[0m\u001b[0;32m    946\u001b[0m             (self.host,self.port), self.timeout, self.source_address)\n\u001b[0;32m    947\u001b[0m         \u001b[0mself\u001b[0m\u001b[1;33m.\u001b[0m\u001b[0msock\u001b[0m\u001b[1;33m.\u001b[0m\u001b[0msetsockopt\u001b[0m\u001b[1;33m(\u001b[0m\u001b[0msocket\u001b[0m\u001b[1;33m.\u001b[0m\u001b[0mIPPROTO_TCP\u001b[0m\u001b[1;33m,\u001b[0m \u001b[0msocket\u001b[0m\u001b[1;33m.\u001b[0m\u001b[0mTCP_NODELAY\u001b[0m\u001b[1;33m,\u001b[0m \u001b[1;36m1\u001b[0m\u001b[1;33m)\u001b[0m\u001b[1;33m\u001b[0m\u001b[1;33m\u001b[0m\u001b[0m\n",
      "\u001b[1;32m~\\AppData\\Local\\Programs\\Python\\Python39\\lib\\socket.py\u001b[0m in \u001b[0;36mcreate_connection\u001b[1;34m(address, timeout, source_address)\u001b[0m\n\u001b[0;32m    830\u001b[0m             \u001b[1;32mif\u001b[0m \u001b[0msource_address\u001b[0m\u001b[1;33m:\u001b[0m\u001b[1;33m\u001b[0m\u001b[1;33m\u001b[0m\u001b[0m\n\u001b[0;32m    831\u001b[0m                 \u001b[0msock\u001b[0m\u001b[1;33m.\u001b[0m\u001b[0mbind\u001b[0m\u001b[1;33m(\u001b[0m\u001b[0msource_address\u001b[0m\u001b[1;33m)\u001b[0m\u001b[1;33m\u001b[0m\u001b[1;33m\u001b[0m\u001b[0m\n\u001b[1;32m--> 832\u001b[1;33m             \u001b[0msock\u001b[0m\u001b[1;33m.\u001b[0m\u001b[0mconnect\u001b[0m\u001b[1;33m(\u001b[0m\u001b[0msa\u001b[0m\u001b[1;33m)\u001b[0m\u001b[1;33m\u001b[0m\u001b[1;33m\u001b[0m\u001b[0m\n\u001b[0m\u001b[0;32m    833\u001b[0m             \u001b[1;31m# Break explicitly a reference cycle\u001b[0m\u001b[1;33m\u001b[0m\u001b[1;33m\u001b[0m\u001b[0m\n\u001b[0;32m    834\u001b[0m             \u001b[0merr\u001b[0m \u001b[1;33m=\u001b[0m \u001b[1;32mNone\u001b[0m\u001b[1;33m\u001b[0m\u001b[1;33m\u001b[0m\u001b[0m\n",
      "\u001b[1;31mKeyboardInterrupt\u001b[0m: "
     ]
    }
   ],
   "source": [
    "data = pd.read_csv(\"https://vincentarelbundock.github.io/Rdatasets/csv/Ecdat/Caschool.csv\", sep=',', index_col=0)\n",
    "data.head()"
   ]
  },
  {
   "cell_type": "markdown",
   "metadata": {
    "id": "JS6pQOL6qIFn"
   },
   "source": [
    "1.1 Visualize the univariate distribution of the target feature and each of the three continuous explanatory variables that you think are likely to have a relationship with the target feature.  \n",
    "\n",
    "I chose testscore(y) = income, lunch, english.\n",
    "I chose these variables to see if there was a positive or negative relationship between test scores in a district and low income students & english learners. I added average income per district because I would assume that would be an significant factor in test scores."
   ]
  },
  {
   "cell_type": "code",
   "execution_count": 4,
   "metadata": {
    "colab": {
     "base_uri": "https://localhost:8080/",
     "height": 279
    },
    "id": "MjYN8gdPCET2",
    "outputId": "3ddc08fd-9490-4f6a-bd79-710b379a7f95"
   },
   "outputs": [
    {
     "data": {
      "image/png": "[encoded data removed]",
      "text/plain": [
       "<Figure size 432x288 with 1 Axes>"
      ]
     },
     "metadata": {
      "needs_background": "light"
     },
     "output_type": "display_data"
    }
   ],
   "source": [
    "plt.hist(data['avginc'])\n",
    "plt.xlabel('District Average Income (in USD 1,000)')\n",
    "plt.ylabel('Frequency/Number of Schools')\n",
    "plt.show()"
   ]
  },
  {
   "cell_type": "code",
   "execution_count": 5,
   "metadata": {
    "colab": {
     "base_uri": "https://localhost:8080/",
     "height": 279
    },
    "id": "t0VnSB2HCEYM",
    "outputId": "ed694c86-a995-4f68-9366-bfe702b9c759"
   },
   "outputs": [
    {
     "data": {
      "image/png": "[encoded data removed]",
      "text/plain": [
       "<Figure size 432x288 with 1 Axes>"
      ]
     },
     "metadata": {
      "needs_background": "light"
     },
     "output_type": "display_data"
    }
   ],
   "source": [
    "plt.hist(data['elpct'])\n",
    "plt.xlabel('English Learner Students Enrolled (%)')\n",
    "plt.ylabel('Frequency/Number of Schools')\n",
    "plt.show()"
   ]
  },
  {
   "cell_type": "code",
   "execution_count": 6,
   "metadata": {
    "colab": {
     "base_uri": "https://localhost:8080/",
     "height": 279
    },
    "id": "iB2-fvhfCEcS",
    "outputId": "b6d89945-780a-4d98-d100-85ebe1af45b9"
   },
   "outputs": [
    {
     "data": {
      "image/png": "[encoded data removed]",
      "text/plain": [
       "<Figure size 432x288 with 1 Axes>"
      ]
     },
     "metadata": {
      "needs_background": "light"
     },
     "output_type": "display_data"
    }
   ],
   "source": [
    "plt.hist(data['mealpct'])\n",
    "plt.xlabel('Students Qualifying for Reduced-Price Lunch (%)')\n",
    "plt.ylabel('Frequency/Number of Schools')\n",
    "plt.show()"
   ]
  },
  {
   "cell_type": "markdown",
   "metadata": {
    "id": "-tMFEbOpqpaj"
   },
   "source": [
    "1.2 Visualize the dependency of the target on each feature from 1.1."
   ]
  },
  {
   "cell_type": "code",
   "execution_count": 7,
   "metadata": {
    "colab": {
     "base_uri": "https://localhost:8080/",
     "height": 279
    },
    "id": "qRmlcORfqpGc",
    "outputId": "3efb7921-1fc8-4e5d-fa69-d45d79e6b5b0"
   },
   "outputs": [
    {
     "data": {
      "image/png": "[encoded data removed]",
      "text/plain": [
       "<Figure size 432x288 with 1 Axes>"
      ]
     },
     "metadata": {
      "needs_background": "light"
     },
     "output_type": "display_data"
    }
   ],
   "source": [
    "#expenditure per student($) and district average income (in USD$1000)\n",
    "plt.scatter(data['avginc'], data['testscr'])\n",
    "plt.xlabel('District Average Income (in USD 1,000)')\n",
    "plt.ylabel('Test Scores')\n",
    "plt.show()"
   ]
  },
  {
   "cell_type": "code",
   "execution_count": 8,
   "metadata": {
    "colab": {
     "base_uri": "https://localhost:8080/",
     "height": 279
    },
    "id": "uIStQvi_WzkQ",
    "outputId": "a89bb3f2-3101-4224-a298-7f68ccba2c77"
   },
   "outputs": [
    {
     "data": {
      "image/png": "[encoded data removed]",
      "text/plain": [
       "<Figure size 432x288 with 1 Axes>"
      ]
     },
     "metadata": {
      "needs_background": "light"
     },
     "output_type": "display_data"
    }
   ],
   "source": [
    "#English learner percentage\n",
    "plt.scatter(data['elpct'], data['testscr'])\n",
    "plt.xlabel('English Learner Students Enrolled (%)')\n",
    "plt.ylabel('Test Scores')\n",
    "plt.show()"
   ]
  },
  {
   "cell_type": "code",
   "execution_count": 9,
   "metadata": {
    "colab": {
     "base_uri": "https://localhost:8080/",
     "height": 279
    },
    "id": "Km7R3YOMWzn-",
    "outputId": "6c8a08b1-8f76-4af0-c750-e3cc8f89b8c9"
   },
   "outputs": [
    {
     "data": {
      "image/png": "[encoded data removed]",
      "text/plain": [
       "<Figure size 432x288 with 1 Axes>"
      ]
     },
     "metadata": {
      "needs_background": "light"
     },
     "output_type": "display_data"
    }
   ],
   "source": [
    "#Students qualifying for reduced-lunch\n",
    "plt.scatter(data['mealpct'], data['testscr'])\n",
    "plt.xlabel('Students Qualifying for Reduced-Price Lunch (%)')\n",
    "plt.ylabel('Test Scores')\n",
    "plt.show()"
   ]
  },
  {
   "cell_type": "markdown",
   "metadata": {
    "id": "2uvrIeYbqpnK"
   },
   "source": [
    "1.3 Split data in training and test set. Build models that evaluate the relationship between all available X variables in the California test dataset and the target variable. Evaluate KNN for regression, Linear Regression (OLS), Ridge, and Lasso using cross-validation with the default parameters. Does scaling the data with the StandardScaler help?"
   ]
  },
  {
   "cell_type": "code",
   "execution_count": 10,
   "metadata": {
    "colab": {
     "base_uri": "https://localhost:8080/",
     "height": 414
    },
    "id": "qAOlKuajD8XJ",
    "outputId": "192079ea-d0f4-42e2-943b-5fc9ad3cb2a3"
   },
   "outputs": [
    {
     "name": "stdout",
     "output_type": "stream",
     "text": [
      "1      690.799988\n",
      "2      661.200012\n",
      "3      643.599976\n",
      "4      647.700012\n",
      "5      640.849976\n",
      "          ...    \n",
      "416    704.300049\n",
      "417    706.750000\n",
      "418    645.000000\n",
      "419    672.200012\n",
      "420    655.750000\n",
      "Name: testscr, Length: 420, dtype: float64\n"
     ]
    },
    {
     "data": {
      "text/html": [
       "<div>\n",
       "<style scoped>\n",
       "    .dataframe tbody tr th:only-of-type {\n",
       "        vertical-align: middle;\n",
       "    }\n",
       "\n",
       "    .dataframe tbody tr th {\n",
       "        vertical-align: top;\n",
       "    }\n",
       "\n",
       "    .dataframe thead th {\n",
       "        text-align: right;\n",
       "    }\n",
       "</style>\n",
       "<table border=\"1\" class=\"dataframe\">\n",
       "  <thead>\n",
       "    <tr style=\"text-align: right;\">\n",
       "      <th></th>\n",
       "      <th>distcod</th>\n",
       "      <th>enrltot</th>\n",
       "      <th>teachers</th>\n",
       "      <th>calwpct</th>\n",
       "      <th>mealpct</th>\n",
       "      <th>computer</th>\n",
       "      <th>compstu</th>\n",
       "      <th>expnstu</th>\n",
       "      <th>str</th>\n",
       "      <th>avginc</th>\n",
       "      <th>elpct</th>\n",
       "    </tr>\n",
       "  </thead>\n",
       "  <tbody>\n",
       "    <tr>\n",
       "      <th>1</th>\n",
       "      <td>75119</td>\n",
       "      <td>195</td>\n",
       "      <td>10.900000</td>\n",
       "      <td>0.510200</td>\n",
       "      <td>2.040800</td>\n",
       "      <td>67</td>\n",
       "      <td>0.343590</td>\n",
       "      <td>6384.911133</td>\n",
       "      <td>17.889910</td>\n",
       "      <td>22.690001</td>\n",
       "      <td>0.000000</td>\n",
       "    </tr>\n",
       "    <tr>\n",
       "      <th>2</th>\n",
       "      <td>61499</td>\n",
       "      <td>240</td>\n",
       "      <td>11.150000</td>\n",
       "      <td>15.416700</td>\n",
       "      <td>47.916698</td>\n",
       "      <td>101</td>\n",
       "      <td>0.420833</td>\n",
       "      <td>5099.380859</td>\n",
       "      <td>21.524664</td>\n",
       "      <td>9.824000</td>\n",
       "      <td>4.583333</td>\n",
       "    </tr>\n",
       "    <tr>\n",
       "      <th>3</th>\n",
       "      <td>61549</td>\n",
       "      <td>1550</td>\n",
       "      <td>82.900002</td>\n",
       "      <td>55.032299</td>\n",
       "      <td>76.322601</td>\n",
       "      <td>169</td>\n",
       "      <td>0.109032</td>\n",
       "      <td>5501.954590</td>\n",
       "      <td>18.697226</td>\n",
       "      <td>8.978000</td>\n",
       "      <td>30.000002</td>\n",
       "    </tr>\n",
       "    <tr>\n",
       "      <th>4</th>\n",
       "      <td>61457</td>\n",
       "      <td>243</td>\n",
       "      <td>14.000000</td>\n",
       "      <td>36.475399</td>\n",
       "      <td>77.049202</td>\n",
       "      <td>85</td>\n",
       "      <td>0.349794</td>\n",
       "      <td>7101.831055</td>\n",
       "      <td>17.357143</td>\n",
       "      <td>8.978000</td>\n",
       "      <td>0.000000</td>\n",
       "    </tr>\n",
       "    <tr>\n",
       "      <th>5</th>\n",
       "      <td>61523</td>\n",
       "      <td>1335</td>\n",
       "      <td>71.500000</td>\n",
       "      <td>33.108601</td>\n",
       "      <td>78.427002</td>\n",
       "      <td>171</td>\n",
       "      <td>0.128090</td>\n",
       "      <td>5235.987793</td>\n",
       "      <td>18.671329</td>\n",
       "      <td>9.080333</td>\n",
       "      <td>13.857677</td>\n",
       "    </tr>\n",
       "  </tbody>\n",
       "</table>\n",
       "</div>"
      ],
      "text/plain": [
       "   distcod  enrltot   teachers    calwpct    mealpct  computer   compstu  \\\n",
       "1    75119      195  10.900000   0.510200   2.040800        67  0.343590   \n",
       "2    61499      240  11.150000  15.416700  47.916698       101  0.420833   \n",
       "3    61549     1550  82.900002  55.032299  76.322601       169  0.109032   \n",
       "4    61457      243  14.000000  36.475399  77.049202        85  0.349794   \n",
       "5    61523     1335  71.500000  33.108601  78.427002       171  0.128090   \n",
       "\n",
       "       expnstu        str     avginc      elpct  \n",
       "1  6384.911133  17.889910  22.690001   0.000000  \n",
       "2  5099.380859  21.524664   9.824000   4.583333  \n",
       "3  5501.954590  18.697226   8.978000  30.000002  \n",
       "4  7101.831055  17.357143   8.978000   0.000000  \n",
       "5  5235.987793  18.671329   9.080333  13.857677  "
      ]
     },
     "execution_count": 10,
     "metadata": {},
     "output_type": "execute_result"
    }
   ],
   "source": [
    "data = data.loc[:, data.columns != 'readscr']\n",
    "data = data.loc[:, data.columns != 'mathscr']\n",
    "data = data.loc[:, data.columns != 'district']\n",
    "data = data.loc[:, data.columns != 'county']\n",
    "data = data.loc[:, data.columns != 'grspan']\n",
    "#data = data.loc[:, data.columns != 'distcod'] #dropped because this is an ID column\n",
    "\n",
    "#Split data in training and test set\n",
    "y = data['testscr']\n",
    "x = data.loc[:, data.columns != 'testscr']\n",
    "print(y)\n",
    "x.head()"
   ]
  },
  {
   "cell_type": "code",
   "execution_count": 24,
   "metadata": {
    "colab": {
     "base_uri": "https://localhost:8080/"
    },
    "id": "boe6LqKVD8lh",
    "outputId": "081fca08-ce8b-470e-f787-677d77cc6b6f"
   },
   "outputs": [
    {
     "name": "stdout",
     "output_type": "stream",
     "text": [
      "(420, 11)\n"
     ]
    },
    {
     "data": {
      "text/plain": [
       "(315, 11)"
      ]
     },
     "execution_count": 24,
     "metadata": {},
     "output_type": "execute_result"
    }
   ],
   "source": [
    "\n",
    "from sklearn.model_selection import train_test_split\n",
    "from sklearn.model_selection import cross_val_score\n",
    "from sklearn.model_selection import RepeatedKFold\n",
    "from sklearn.model_selection import StratifiedKFold\n",
    "from sklearn.model_selection import KFold\n",
    "from tabulate import tabulate\n",
    "from sklearn.metrics import mean_squared_error\n",
    "\n",
    "# Models\n",
    "from sklearn.linear_model import SGDRegressor\n",
    "from sklearn.svm import SVR\n",
    "from sklearn.ensemble import RandomForestRegressor\n",
    "from sklearn.neighbors import KNeighborsRegressor\n",
    "from sklearn.linear_model import LinearRegression\n",
    "from sklearn.linear_model import Ridge\n",
    "from sklearn.linear_model import Lasso\n",
    "\n",
    "\n",
    "#0.75/0.25 split\n",
    "X_train, X_test, y_train, y_test = train_test_split(x, y)\n",
    "\n",
    "print(x.shape)\n",
    "X_train.shape\n",
    "#training data is using 315/420 observations"
   ]
  },
  {
   "cell_type": "code",
   "execution_count": 22,
   "metadata": {},
   "outputs": [],
   "source": [
    "def default_modeler(model, X_train, X_test, y_train, y_test):\n",
    "    model = model\n",
    "    model.fit(X_train, y_train)\n",
    "    y_pred = model.predict(X_test)\n",
    "    mse = mean_squared_error(y_pred, y_test)\n",
    "    score = model.score(X_test, y_test)\n",
    "    cv_score = np.mean(cross_val_score(model, X_train, y_train, cv=5, scoring=\"neg_mean_squared_error\"))\n",
    "    return score, cv_score, mse, model, y_pred"
   ]
  },
  {
   "cell_type": "code",
   "execution_count": 29,
   "metadata": {},
   "outputs": [],
   "source": [
    "list_of_output = []\n",
    "list_of_pred = []\n",
    "for model in [Ridge(max_iter=10000), Lasso(max_iter=10000), KNeighborsRegressor(), SGDRegressor(max_iter=100000), SVR(), RandomForestRegressor()]:\n",
    "    result = list(default_modeler(model, X_train, X_test, y_train, y_test))\n",
    "    pred = result[-1]\n",
    "    list_of_output.append(result[0:5])\n",
    "    list_of_pred.append(pred)\n"
   ]
  },
  {
   "cell_type": "code",
   "execution_count": 30,
   "metadata": {},
   "outputs": [
    {
     "name": "stdout",
     "output_type": "stream",
     "text": [
      "+--------------+----------------+-------------------------------------+-------------------------------+--------------------------------------------------------------------+\n",
      "|              |          Score |   CV Score (neg_mean_squared_error) | MSE                           | Model                                                              |\n",
      "+==============+================+=====================================+===============================+====================================================================+\n",
      "|  0.838807    |  -76.809       |                        63.3951      | Ridge(max_iter=10000)         | [658.48441184 665.99823421 689.46210219 664.49977558 621.09063696  |\n",
      "|              |                |                                     |                               |  648.31079404 644.51239595 618.60651472 655.00418761 674.78871933  |\n",
      "|              |                |                                     |                               |  624.03811927 661.58826477 668.75011843 650.69390322 668.46665698  |\n",
      "|              |                |                                     |                               |  659.40189234 692.70376509 694.45516593 654.38256109 663.84399977  |\n",
      "|              |                |                                     |                               |  695.6867021  666.59141193 670.8676025  666.73691293 682.00909279  |\n",
      "|              |                |                                     |                               |  643.50660482 657.18840623 662.36235997 647.32399189 663.93584132  |\n",
      "|              |                |                                     |                               |  648.75928083 649.97493869 629.35087191 656.76776631 664.7387462   |\n",
      "|              |                |                                     |                               |  642.04024561 660.15035101 650.47143846 662.97358844 641.61707395  |\n",
      "|              |                |                                     |                               |  692.50112886 640.43806828 664.92261383 692.89282353 636.28133553  |\n",
      "|              |                |                                     |                               |  663.94737441 653.71479054 642.6806554  641.41569821 662.47374037  |\n",
      "|              |                |                                     |                               |  630.77987579 658.00275412 669.87693328 681.64785463 659.39291536  |\n",
      "|              |                |                                     |                               |  670.24236724 634.50128595 666.01862918 662.41687546 684.73422132  |\n",
      "|              |                |                                     |                               |  646.27840163 650.95146789 665.48999157 668.0162661  634.84049363  |\n",
      "|              |                |                                     |                               |  666.59379626 638.44887156 677.47819814 657.48514939 661.03020532  |\n",
      "|              |                |                                     |                               |  664.19136676 630.29266952 630.22281394 647.62192726 626.61075282  |\n",
      "|              |                |                                     |                               |  656.91655918 686.46255018 702.28314892 634.13297247 644.28474759  |\n",
      "|              |                |                                     |                               |  643.74591816 654.20690026 662.84239879 648.00703117 667.0255811   |\n",
      "|              |                |                                     |                               |  658.27962213 632.61154269 625.15927099 652.70367635 648.61254695  |\n",
      "|              |                |                                     |                               |  660.71236151 643.17984793 677.79546063 660.05830946 665.39442719  |\n",
      "|              |                |                                     |                               |  659.68075759 655.88093374 669.68637035 639.22592281 661.47051532  |\n",
      "|              |                |                                     |                               |  655.73788063 661.39001439 620.90429256 633.63010242 634.85640599] |\n",
      "+--------------+----------------+-------------------------------------+-------------------------------+--------------------------------------------------------------------+\n",
      "|  0.837359    |  -75.9811      |                        63.9646      | Lasso(max_iter=10000)         | [658.62306991 666.2011732  688.969186   665.19878584 622.06367024  |\n",
      "|              |                |                                     |                               |  647.69267291 644.03247378 618.76432902 654.0587232  674.99748992  |\n",
      "|              |                |                                     |                               |  622.76014726 661.53159334 668.75808659 649.58175505 667.94815884  |\n",
      "|              |                |                                     |                               |  659.54218069 692.50208679 694.30007272 654.65465914 663.77366218  |\n",
      "|              |                |                                     |                               |  695.3620367  666.19622227 670.71275531 667.04023984 681.83903684  |\n",
      "|              |                |                                     |                               |  643.78038285 656.93215372 662.5766298  647.71835848 663.58978725  |\n",
      "|              |                |                                     |                               |  648.9228069  649.15959426 629.54852623 657.10588348 664.70494901  |\n",
      "|              |                |                                     |                               |  642.02279969 660.78973087 650.2417296  663.2007154  640.65598598  |\n",
      "|              |                |                                     |                               |  691.69790307 640.82371875 665.14221689 692.49569633 636.96516475  |\n",
      "|              |                |                                     |                               |  663.86080333 654.10258806 642.88041019 641.02190817 661.46674416  |\n",
      "|              |                |                                     |                               |  630.81315656 658.08302673 669.87644578 681.3402427  659.27602856  |\n",
      "|              |                |                                     |                               |  669.98028373 634.95072933 666.22703314 662.4208135  684.42523782  |\n",
      "|              |                |                                     |                               |  646.56513841 650.61307673 665.92373429 668.04800688 635.06269965  |\n",
      "|              |                |                                     |                               |  667.00004734 638.5599041  677.36347804 657.79970166 661.26793547  |\n",
      "|              |                |                                     |                               |  664.11671744 630.32422622 630.08566544 647.69353547 626.87977165  |\n",
      "|              |                |                                     |                               |  657.23642284 686.0924902  700.81865671 633.57832224 644.29742816  |\n",
      "|              |                |                                     |                               |  643.73325405 654.36823638 663.00446707 647.71658273 667.03559902  |\n",
      "|              |                |                                     |                               |  657.71295154 632.9346843  625.75982496 652.75936682 648.09156623  |\n",
      "|              |                |                                     |                               |  660.28828735 643.46091921 677.43385941 659.87053454 665.62128006  |\n",
      "|              |                |                                     |                               |  659.84913258 655.86145817 670.13097845 639.47476828 661.52061083  |\n",
      "|              |                |                                     |                               |  655.90862283 661.6498771  620.99249273 632.90868156 634.64654281] |\n",
      "+--------------+----------------+-------------------------------------+-------------------------------+--------------------------------------------------------------------+\n",
      "|  0.215606    | -347.31        |                       308.491       | KNeighborsRegressor()         | [666.36999512 666.08000488 658.91999512 660.54002686 639.18001709  |\n",
      "|              |                |                                     |                               |  656.65998535 659.75999756 644.09000244 642.20999756 665.42000732  |\n",
      "|              |                |                                     |                               |  643.61999512 664.91000977 669.33000488 640.31998291 655.47000732  |\n",
      "|              |                |                                     |                               |  667.90999756 660.84001465 664.32000732 660.97000732 677.17999268  |\n",
      "|              |                |                                     |                               |  687.29000244 660.49997559 630.96000977 668.77999268 685.43000488  |\n",
      "|              |                |                                     |                               |  647.85       652.17001953 644.52000732 636.30001221 664.54000244  |\n",
      "|              |                |                                     |                               |  649.78000488 659.31998291 637.74998779 649.56000977 646.83000488  |\n",
      "|              |                |                                     |                               |  641.60999756 669.47000732 662.87998047 656.35998535 650.85001221  |\n",
      "|              |                |                                     |                               |  663.59000244 652.2        669.55       687.29000244 647.21999512  |\n",
      "|              |                |                                     |                               |  641.97001953 660.03999023 643.33000488 654.24997559 664.00001221  |\n",
      "|              |                |                                     |                               |  653.66998291 653.4        655.34998779 669.28999023 654.90998535  |\n",
      "|              |                |                                     |                               |  675.26999512 651.79000244 658.25001221 637.83000488 661.01999512  |\n",
      "|              |                |                                     |                               |  664.02000732 662.8        647.52999268 677.17999268 643.83001709  |\n",
      "|              |                |                                     |                               |  665.46999512 645.00999756 659.75999756 630.28000488 655.25        |\n",
      "|              |                |                                     |                               |  635.34000244 639.67999268 661.99000244 632.51000977 643.83001709  |\n",
      "|              |                |                                     |                               |  640.31998291 664.91000977 687.29000244 643.61999512 654.24000244  |\n",
      "|              |                |                                     |                               |  650.25999756 669.13001709 651.11998291 657.81999512 647.56000977  |\n",
      "|              |                |                                     |                               |  654.88999023 638.21999512 642.20999756 657.95       651.11998291  |\n",
      "|              |                |                                     |                               |  656.19998779 638.28999023 639.85001221 650.45999756 657.09001465  |\n",
      "|              |                |                                     |                               |  655.78000488 657.95998535 668.03001709 651.64000244 642.49000244  |\n",
      "|              |                |                                     |                               |  641.11000977 656.65998535 638.21999512 660.44000244 649.17000732] |\n",
      "+--------------+----------------+-------------------------------------+-------------------------------+--------------------------------------------------------------------+\n",
      "| -2.74331e+34 |   -8.49104e+36 |                         1.07891e+37 | SGDRegressor(max_iter=100000) | [3.37478141e+18 3.46448509e+18 3.30209739e+18 3.15643602e+18       |\n",
      "|              |                |                                     |                               |  3.56298460e+18 3.05997267e+18 3.39043690e+18 3.09558963e+18       |\n",
      "|              |                |                                     |                               |  3.54293825e+18 3.42226593e+18 3.21717660e+18 2.98918113e+18       |\n",
      "|              |                |                                     |                               |  3.47451747e+18 3.55565131e+18 3.52886715e+18 3.26459461e+18       |\n",
      "|              |                |                                     |                               |  3.13218883e+18 3.33620564e+18 3.02830829e+18 3.40057890e+18       |\n",
      "|              |                |                                     |                               |  3.31386376e+18 3.33444081e+18 3.17604311e+18 3.49377857e+18       |\n",
      "|              |                |                                     |                               |  3.34630492e+18 3.27556844e+18 3.51340644e+18 3.06231677e+18       |\n",
      "|              |                |                                     |                               |  3.16192178e+18 3.43872439e+18 3.26386826e+18 3.53459173e+18       |\n",
      "|              |                |                                     |                               |  3.57862910e+18 3.08318151e+18 3.36939881e+18 3.08807971e+18       |\n",
      "|              |                |                                     |                               |  3.27678651e+18 3.51341246e+18 3.05913575e+18 3.51998615e+18       |\n",
      "|              |                |                                     |                               |  2.96301174e+18 3.23139607e+18 3.42670717e+18 3.27289656e+18       |\n",
      "|              |                |                                     |                               |  3.40815400e+18 3.18371606e+18 3.29344583e+18 3.16303822e+18       |\n",
      "|              |                |                                     |                               |  3.11416557e+18 3.29397386e+18 3.26930557e+18 3.22621140e+18       |\n",
      "|              |                |                                     |                               |  3.47950992e+18 3.44226349e+18 3.13496366e+18 3.39589896e+18       |\n",
      "|              |                |                                     |                               |  3.37364102e+18 3.24742694e+18 3.04929522e+18 3.16337601e+18       |\n",
      "|              |                |                                     |                               |  3.35698509e+18 3.08417430e+18 3.13224079e+18 3.39502030e+18       |\n",
      "|              |                |                                     |                               |  3.03223426e+18 3.49870505e+18 3.21845827e+18 3.40004241e+18       |\n",
      "|              |                |                                     |                               |  3.12436393e+18 3.38013148e+18 3.54031216e+18 3.07306590e+18       |\n",
      "|              |                |                                     |                               |  3.05165718e+18 3.06927991e+18 3.02974196e+18 3.55539715e+18       |\n",
      "|              |                |                                     |                               |  2.99136375e+18 3.28886778e+18 2.96447563e+18 3.25183344e+18       |\n",
      "|              |                |                                     |                               |  3.39479487e+18 3.45294307e+18 3.14098749e+18 3.39440315e+18       |\n",
      "|              |                |                                     |                               |  3.25388518e+18 3.56746063e+18 3.11591299e+18 3.50825419e+18       |\n",
      "|              |                |                                     |                               |  3.05800953e+18 3.11101092e+18 3.54589130e+18 3.10674526e+18       |\n",
      "|              |                |                                     |                               |  3.00890166e+18 3.01167090e+18 3.43452461e+18 3.65248933e+18       |\n",
      "|              |                |                                     |                               |  3.30479769e+18 3.47401380e+18 3.05421430e+18 3.14969870e+18       |\n",
      "|              |                |                                     |                               |  3.50295470e+18 3.06268548e+18 3.08060382e+18 3.40315678e+18       |\n",
      "|              |                |                                     |                               |  3.30611496e+18]                                                   |\n",
      "+--------------+----------------+-------------------------------------+-------------------------------+--------------------------------------------------------------------+\n",
      "| -0.000876587 | -352.137       |                       393.631       | SVR()                         | [653.70398977 654.04290934 653.87391393 653.96118787 654.08300787  |\n",
      "|              |                |                                     |                               |  653.89544749 654.01932608 653.42472066 654.09982392 654.05892607  |\n",
      "|              |                |                                     |                               |  652.33821432 653.59874845 653.97608845 654.09571981 654.09570908  |\n",
      "|              |                |                                     |                               |  653.9688093  653.892467   654.05246584 653.73610267 653.83858124  |\n",
      "|              |                |                                     |                               |  654.03198156 653.96567504 653.27391444 654.05367028 653.85780674  |\n",
      "|              |                |                                     |                               |  653.76718868 653.59807772 653.86766671 653.7595003  654.07830029  |\n",
      "|              |                |                                     |                               |  653.81352951 654.06229974 654.07126649 653.80179184 653.44956863  |\n",
      "|              |                |                                     |                               |  653.42512415 653.94893394 654.05248294 653.86723393 654.07407867  |\n",
      "|              |                |                                     |                               |  653.69423184 653.7925011  653.88537775 654.03517398 653.98749224  |\n",
      "|              |                |                                     |                               |  653.5623133  653.98856344 653.39249773 653.92021377 653.98015439  |\n",
      "|              |                |                                     |                               |  653.61187263 653.83618959 653.88877637 654.09821477 653.89104704  |\n",
      "|              |                |                                     |                               |  653.84483611 653.20176923 653.87211137 652.92233181 653.90145093  |\n",
      "|              |                |                                     |                               |  654.04217662 653.89078706 653.92340604 653.87348232 653.86111603  |\n",
      "|              |                |                                     |                               |  653.99131602 653.86442707 654.05134122 653.24141597 653.59381741  |\n",
      "|              |                |                                     |                               |  654.09974354 653.89197134 653.87915848 653.84153332 653.86792483  |\n",
      "|              |                |                                     |                               |  654.06602314 653.60656811 654.01387428 651.85363443 653.54927416  |\n",
      "|              |                |                                     |                               |  654.07151093 654.00033804 653.9003123  654.08468436 653.61971106  |\n",
      "|              |                |                                     |                               |  654.0958506  653.73447211 654.06485908 653.84819745 653.90381013  |\n",
      "|              |                |                                     |                               |  654.09736456 653.76597119 653.87566883 653.78061423 654.0305496   |\n",
      "|              |                |                                     |                               |  654.09491485 652.84517018 654.05454497 653.61596183 653.8580262   |\n",
      "|              |                |                                     |                               |  654.09040405 653.89868148 653.71621603 653.62594891 653.9094815 ] |\n",
      "+--------------+----------------+-------------------------------------+-------------------------------+--------------------------------------------------------------------+\n",
      "|  0.829631    |  -83.2307      |                        67.0038      | RandomForestRegressor()       | [660.65       661.43449585 689.39650757 661.41199219 621.97750305  |\n",
      "|              |                |                                     |                               |  651.59199219 644.4955011  622.82499695 656.61350342 674.77651123  |\n",
      "|              |                |                                     |                               |  628.98251221 659.49800232 663.66650024 654.10950623 668.07250488  |\n",
      "|              |                |                                     |                               |  658.80198792 693.86251953 692.24551941 659.15650146 659.21599792  |\n",
      "|              |                |                                     |                               |  693.56402039 669.80550415 668.84700012 660.06650146 687.91999878  |\n",
      "|              |                |                                     |                               |  642.52699585 654.72948853 663.21299622 642.83899719 659.61700745  |\n",
      "|              |                |                                     |                               |  646.0314856  650.38750549 626.774505   656.92199951 663.34001587  |\n",
      "|              |                |                                     |                               |  642.83549072 662.62349976 653.67900269 665.87999451 642.31649658  |\n",
      "|              |                |                                     |                               |  694.95252075 642.79249512 659.10200317 694.96302002 629.86100952  |\n",
      "|              |                |                                     |                               |  662.95200745 656.82850403 638.63349976 652.32099609 658.40299927  |\n",
      "|              |                |                                     |                               |  632.43250793 657.24549805 669.6465033  680.3405188  660.31849487  |\n",
      "|              |                |                                     |                               |  666.33399475 637.71248779 665.64600403 660.47599915 687.64050415  |\n",
      "|              |                |                                     |                               |  641.47049927 654.87599365 662.09299988 669.92950378 638.00599609  |\n",
      "|              |                |                                     |                               |  661.5894989  641.02399231 675.81299988 657.32249939 659.62650818  |\n",
      "|              |                |                                     |                               |  661.86898315 629.12050415 629.35100769 644.0284906  625.09000305  |\n",
      "|              |                |                                     |                               |  657.7349939  690.90351624 692.66151917 633.52650574 642.25299255  |\n",
      "|              |                |                                     |                               |  642.43899109 658.38550171 660.56250183 648.96449646 667.49549622  |\n",
      "|              |                |                                     |                               |  659.00299438 638.91599731 622.5344989  657.19600464 650.50049927  |\n",
      "|              |                |                                     |                               |  656.1159967  639.4135022  675.20701111 658.89049988 659.59799133  |\n",
      "|              |                |                                     |                               |  656.40549133 651.76749756 666.40000183 639.88348572 661.4694928   |\n",
      "|              |                |                                     |                               |  654.79049744 664.71699707 624.72899902 632.10901672 632.86851868] |\n",
      "+--------------+----------------+-------------------------------------+-------------------------------+--------------------------------------------------------------------+\n"
     ]
    }
   ],
   "source": [
    "head = [\"Score\", \"CV Score (neg_mean_squared_error)\", \"MSE\", \"Model\"]\n",
    "print(tabulate(list_of_output, headers=head, tablefmt=\"grid\"))"
   ]
  },
  {
   "cell_type": "code",
   "execution_count": 37,
   "metadata": {},
   "outputs": [
    {
     "data": {
      "text/html": [
       "<div>\n",
       "<style scoped>\n",
       "    .dataframe tbody tr th:only-of-type {\n",
       "        vertical-align: middle;\n",
       "    }\n",
       "\n",
       "    .dataframe tbody tr th {\n",
       "        vertical-align: top;\n",
       "    }\n",
       "\n",
       "    .dataframe thead th {\n",
       "        text-align: right;\n",
       "    }\n",
       "</style>\n",
       "<table border=\"1\" class=\"dataframe\">\n",
       "  <thead>\n",
       "    <tr style=\"text-align: right;\">\n",
       "      <th></th>\n",
       "      <th>Score</th>\n",
       "      <th>CV Score</th>\n",
       "      <th>MSE</th>\n",
       "      <th>Model Pipe</th>\n",
       "      <th>Pred</th>\n",
       "    </tr>\n",
       "  </thead>\n",
       "  <tbody>\n",
       "    <tr>\n",
       "      <th>0</th>\n",
       "      <td>8.388069e-01</td>\n",
       "      <td>-7.680899e+01</td>\n",
       "      <td>6.339506e+01</td>\n",
       "      <td>Ridge(max_iter=10000)</td>\n",
       "      <td>[658.4844118353973, 665.9982342120728, 689.462...</td>\n",
       "    </tr>\n",
       "    <tr>\n",
       "      <th>1</th>\n",
       "      <td>8.373587e-01</td>\n",
       "      <td>-7.598111e+01</td>\n",
       "      <td>6.396460e+01</td>\n",
       "      <td>Lasso(max_iter=10000)</td>\n",
       "      <td>[658.6230699092821, 666.2011731982014, 688.969...</td>\n",
       "    </tr>\n",
       "    <tr>\n",
       "      <th>2</th>\n",
       "      <td>2.156061e-01</td>\n",
       "      <td>-3.473103e+02</td>\n",
       "      <td>3.084914e+02</td>\n",
       "      <td>KNeighborsRegressor()</td>\n",
       "      <td>[666.3699951171874, 666.0800048828124, 658.919...</td>\n",
       "    </tr>\n",
       "    <tr>\n",
       "      <th>3</th>\n",
       "      <td>-2.743313e+34</td>\n",
       "      <td>-8.491039e+36</td>\n",
       "      <td>1.078908e+37</td>\n",
       "      <td>SGDRegressor(max_iter=100000)</td>\n",
       "      <td>[3.3747814055731973e+18, 3.4644850927867346e+1...</td>\n",
       "    </tr>\n",
       "    <tr>\n",
       "      <th>4</th>\n",
       "      <td>-8.765875e-04</td>\n",
       "      <td>-3.521373e+02</td>\n",
       "      <td>3.936311e+02</td>\n",
       "      <td>SVR()</td>\n",
       "      <td>[653.7039897689726, 654.0429093357425, 653.873...</td>\n",
       "    </tr>\n",
       "    <tr>\n",
       "      <th>5</th>\n",
       "      <td>8.296311e-01</td>\n",
       "      <td>-8.323072e+01</td>\n",
       "      <td>6.700377e+01</td>\n",
       "      <td>(DecisionTreeRegressor(max_features='auto', ra...</td>\n",
       "      <td>[660.65, 661.4344958496093, 689.3965075683594,...</td>\n",
       "    </tr>\n",
       "  </tbody>\n",
       "</table>\n",
       "</div>"
      ],
      "text/plain": [
       "          Score      CV Score           MSE  \\\n",
       "0  8.388069e-01 -7.680899e+01  6.339506e+01   \n",
       "1  8.373587e-01 -7.598111e+01  6.396460e+01   \n",
       "2  2.156061e-01 -3.473103e+02  3.084914e+02   \n",
       "3 -2.743313e+34 -8.491039e+36  1.078908e+37   \n",
       "4 -8.765875e-04 -3.521373e+02  3.936311e+02   \n",
       "5  8.296311e-01 -8.323072e+01  6.700377e+01   \n",
       "\n",
       "                                          Model Pipe  \\\n",
       "0                              Ridge(max_iter=10000)   \n",
       "1                              Lasso(max_iter=10000)   \n",
       "2                              KNeighborsRegressor()   \n",
       "3                      SGDRegressor(max_iter=100000)   \n",
       "4                                              SVR()   \n",
       "5  (DecisionTreeRegressor(max_features='auto', ra...   \n",
       "\n",
       "                                                Pred  \n",
       "0  [658.4844118353973, 665.9982342120728, 689.462...  \n",
       "1  [658.6230699092821, 666.2011731982014, 688.969...  \n",
       "2  [666.3699951171874, 666.0800048828124, 658.919...  \n",
       "3  [3.3747814055731973e+18, 3.4644850927867346e+1...  \n",
       "4  [653.7039897689726, 654.0429093357425, 653.873...  \n",
       "5  [660.65, 661.4344958496093, 689.3965075683594,...  "
      ]
     },
     "execution_count": 37,
     "metadata": {},
     "output_type": "execute_result"
    }
   ],
   "source": [
    "default_models = pd.DataFrame(list_of_output, columns=  [\"Score\", \"CV Score\", \"MSE\", \"Model Pipe\", \"Pred\"])\n",
    "np.set_printoptions(suppress=True)\n",
    "default_models"
   ]
  },
  {
   "cell_type": "code",
   "execution_count": null,
   "metadata": {
    "colab": {
     "base_uri": "https://localhost:8080/"
    },
    "id": "3ttb0n2sD8pt",
    "outputId": "b99149f2-f806-4f12-fb59-389a2893b647"
   },
   "outputs": [
    {
     "name": "stdout",
     "output_type": "stream",
     "text": [
      "accuracy:0.05862138204487499\n"
     ]
    }
   ],
   "source": [
    "#instantiate knn regressor with default k=5\n",
    "knn = KNeighborsRegressor()\n",
    "knn.fit(x_train, y_train)\n",
    "print(\"accuracy:\"+str(knn.score(x_test, y_test)))\n",
    "y_pred = knn.predict(x_test)\n"
   ]
  },
  {
   "cell_type": "code",
   "execution_count": null,
   "metadata": {
    "colab": {
     "base_uri": "https://localhost:8080/"
    },
    "id": "R7dh3GSbXBJj",
    "outputId": "d3f60215-2e2f-4570-f923-8139db44fb21"
   },
   "outputs": [
    {
     "name": "stderr",
     "output_type": "stream",
     "text": [
      "/usr/local/lib/python3.7/dist-packages/sklearn/linear_model/_coordinate_descent.py:648: ConvergenceWarning: Objective did not converge. You might want to increase the number of iterations, check the scale of the features or consider increasing regularisation. Duality gap: 2.388e+02, tolerance: 1.130e+01\n",
      "  coef_, l1_reg, l2_reg, X, y, max_iter, tol, rng, random, positive\n"
     ]
    },
    {
     "data": {
      "text/plain": [
       "LinearRegression()"
      ]
     },
     "execution_count": 11,
     "metadata": {},
     "output_type": "execute_result"
    }
   ],
   "source": [
    "lr = LinearRegression()\n",
    "ridge = Ridge().fit(x_train, y_train)\n",
    "lasso = Lasso().fit(x_train, y_train)\n",
    "lr.fit(x_train, y_train)"
   ]
  },
  {
   "cell_type": "code",
   "execution_count": null,
   "metadata": {
    "colab": {
     "base_uri": "https://localhost:8080/"
    },
    "id": "EhPr0nMna0Am",
    "outputId": "3c17693a-eb16-4894-f205-2244c0731f85"
   },
   "outputs": [
    {
     "name": "stdout",
     "output_type": "stream",
     "text": [
      "Training set score: 0.79\n",
      "Test set score: 0.86\n",
      "0.7679218848149731\n"
     ]
    }
   ],
   "source": [
    "import numpy as np\n",
    "#linear regression scores\n",
    "print(\"Training set score: {:.2f}\".format(lr.score(x_train, y_train)))\n",
    "print(\"Test set score: {:.2f}\".format(lr.score(x_test, y_test)))\n",
    "\n",
    "#cross validation\n",
    "from sklearn.model_selection import cross_val_score\n",
    "\n",
    "print(np.mean(cross_val_score(LinearRegression(), x_train, y_train, cv=10, scoring=\"r2\")))"
   ]
  },
  {
   "cell_type": "code",
   "execution_count": null,
   "metadata": {
    "colab": {
     "base_uri": "https://localhost:8080/"
    },
    "id": "lXTp3XXbbGzt",
    "outputId": "7c5fdde2-642f-4520-dd59-9e755059ed9c"
   },
   "outputs": [
    {
     "name": "stdout",
     "output_type": "stream",
     "text": [
      "Training set score: 0.79\n",
      "Test set score: 0.86\n"
     ]
    },
    {
     "data": {
      "text/plain": [
       "array([0.81211578, 0.7103415 , 0.78289556, 0.72774251, 0.84687408])"
      ]
     },
     "execution_count": 13,
     "metadata": {},
     "output_type": "execute_result"
    }
   ],
   "source": [
    "#ridge\n",
    "print(\"Training set score: {:.2f}\".format(ridge.score(x_train, y_train)))\n",
    "print(\"Test set score: {:.2f}\".format(ridge.score(x_test, y_test)))\n",
    "cross_val_score(Ridge(), x_train, y_train, scoring=\"r2\") "
   ]
  },
  {
   "cell_type": "code",
   "execution_count": null,
   "metadata": {
    "colab": {
     "base_uri": "https://localhost:8080/"
    },
    "id": "kxWYPQFHbG6i",
    "outputId": "0e17aa2c-5133-480c-df8d-33af0875a0b2"
   },
   "outputs": [
    {
     "name": "stdout",
     "output_type": "stream",
     "text": [
      "Training set score: 0.79\n",
      "Test set score: 0.86\n"
     ]
    },
    {
     "data": {
      "text/plain": [
       "array([0.8133803 , 0.71115346, 0.78198922, 0.72766813, 0.84762569])"
      ]
     },
     "execution_count": 14,
     "metadata": {},
     "output_type": "execute_result"
    }
   ],
   "source": [
    "#lasso\n",
    "print(\"Training set score: {:.2f}\".format(lasso.score(x_train, y_train)))\n",
    "print(\"Test set score: {:.2f}\".format(lasso.score(x_test, y_test)))\n",
    "cross_val_score(Lasso(max_iter=10000), x_train, y_train, scoring=\"r2\") "
   ]
  },
  {
   "cell_type": "code",
   "execution_count": null,
   "metadata": {
    "colab": {
     "base_uri": "https://localhost:8080/"
    },
    "id": "mivg97AedL_8",
    "outputId": "6071b3aa-6463-4e9b-aa5d-c198242de81d"
   },
   "outputs": [
    {
     "name": "stdout",
     "output_type": "stream",
     "text": [
      "KFold:\n",
      "[ 0.17509949  0.01416409  0.25719232 -0.12664011  0.0731834 ]\n"
     ]
    }
   ],
   "source": [
    "kfold = KFold(n_splits=5) #default\n",
    "from statistics import mean \n",
    "print(\"KFold:\\n{}\".format(\n",
    "cross_val_score(KNeighborsRegressor(), x_train, y_train, cv=kfold)))"
   ]
  },
  {
   "cell_type": "code",
   "execution_count": null,
   "metadata": {
    "colab": {
     "base_uri": "https://localhost:8080/"
    },
    "id": "D2GdUCeZw-R2",
    "outputId": "bc85927e-9deb-4a3f-e032-4a19d4d7a234"
   },
   "outputs": [
    {
     "data": {
      "text/plain": [
       "array([[ 1.11601183,  1.32058726,  1.37614987, ...,  0.26106367,\n",
       "        -0.42031514,  0.7670041 ],\n",
       "       [ 0.39742902, -0.63293841, -0.64591405, ..., -0.18197633,\n",
       "        -0.58680072, -0.49165575],\n",
       "       [ 0.66607679, -0.60873365, -0.61752756, ..., -0.53508019,\n",
       "         0.39098473, -0.82839403],\n",
       "       ...,\n",
       "       [ 0.69947932, -0.04824223, -0.0315569 , ...,  0.09081709,\n",
       "         0.45969609, -0.22476589],\n",
       "       [ 0.74344506, -0.53536298, -0.53646837, ..., -0.46955081,\n",
       "        -0.23965476, -0.85208159],\n",
       "       [-1.5667544 , -0.63142561, -0.63487485, ..., -2.1849683 ,\n",
       "         0.50250998, -0.85208159]])"
      ]
     },
     "execution_count": 16,
     "metadata": {},
     "output_type": "execute_result"
    }
   ],
   "source": [
    "#standardscaler\n",
    "from sklearn.preprocessing import StandardScaler\n",
    "scaler = StandardScaler().fit(x_train)\n",
    "scaler.transform(x_train)  \n",
    "scaler.transform(x_test)"
   ]
  },
  {
   "cell_type": "code",
   "execution_count": null,
   "metadata": {
    "colab": {
     "base_uri": "https://localhost:8080/"
    },
    "id": "PVanpZyfSN5o",
    "outputId": "8b8cd9c8-8387-4366-cba7-ed4d9a275a1f"
   },
   "outputs": [
    {
     "name": "stderr",
     "output_type": "stream",
     "text": [
      "/usr/local/lib/python3.7/dist-packages/sklearn/linear_model/_coordinate_descent.py:648: ConvergenceWarning: Objective did not converge. You might want to increase the number of iterations, check the scale of the features or consider increasing regularisation. Duality gap: 2.388e+02, tolerance: 1.130e+01\n",
      "  coef_, l1_reg, l2_reg, X, y, max_iter, tol, rng, random, positive\n"
     ]
    },
    {
     "data": {
      "text/plain": [
       "LinearRegression()"
      ]
     },
     "execution_count": 17,
     "metadata": {},
     "output_type": "execute_result"
    }
   ],
   "source": [
    "#rerunning with scaled daata\n",
    "knn.fit(x_train, y_train)\n",
    "lr = LinearRegression()\n",
    "ridge = Ridge().fit(x_train, y_train)\n",
    "lasso = Lasso(max_iter=1000).fit(x_train, y_train)\n",
    "lr.fit(x_train, y_train)"
   ]
  },
  {
   "cell_type": "code",
   "execution_count": null,
   "metadata": {
    "colab": {
     "base_uri": "https://localhost:8080/"
    },
    "id": "ykidttI5dAbU",
    "outputId": "e368a395-394b-4fa9-a32a-7f2e04065f0d"
   },
   "outputs": [
    {
     "name": "stdout",
     "output_type": "stream",
     "text": [
      "knn accuracy:0.05862138204487499\n",
      "Training set score: 0.79\n",
      "Test set score: 0.86\n",
      "0.7679218848149731\n",
      "Training set score: 0.79\n",
      "Test set score: 0.86\n",
      "0.7759938870681063\n",
      "Training set score: 0.79\n",
      "Test set score: 0.86\n",
      "0.7763633597613551\n"
     ]
    }
   ],
   "source": [
    "#knn\n",
    "print(\"knn accuracy:\"+str(knn.score(x_test, y_test)))\n",
    "\n",
    "#linear\n",
    "print(\"Training set score: {:.2f}\".format(lr.score(x_train, y_train)))\n",
    "print(\"Test set score: {:.2f}\".format(lr.score(x_test, y_test)))\n",
    "print(np.mean(cross_val_score(LinearRegression(), x_train, y_train, cv=10, scoring=\"r2\")))\n",
    "\n",
    "#ridge\n",
    "print(\"Training set score: {:.2f}\".format(ridge.score(x_train, y_train)))\n",
    "print(\"Test set score: {:.2f}\".format(ridge.score(x_test, y_test)))\n",
    "print(np.mean(cross_val_score(Ridge(), x_train, y_train, scoring=\"r2\")))\n",
    "\n",
    "#lasso\n",
    "print(\"Training set score: {:.2f}\".format(lasso.score(x_train, y_train)))\n",
    "print(\"Test set score: {:.2f}\".format(lasso.score(x_test, y_test)))\n",
    "print(np.mean(cross_val_score(Lasso(max_iter=10000), x_train, y_train, scoring=\"r2\")))"
   ]
  },
  {
   "cell_type": "code",
   "execution_count": null,
   "metadata": {
    "colab": {
     "base_uri": "https://localhost:8080/"
    },
    "id": "-H9N84KPeOjr",
    "outputId": "8b53c37b-ebcc-4792-8a6e-4e91a25e1b41"
   },
   "outputs": [
    {
     "name": "stdout",
     "output_type": "stream",
     "text": [
      "lr.coef_: [ 1.13416088e-04 -4.99540257e-04  6.94684997e-03 -9.50724358e-02\n",
      " -3.45947975e-01  1.01714255e-03  6.44963023e+00  7.78432378e-04\n",
      " -2.60582890e-01  6.88214810e-01 -2.12883237e-01]\n",
      "ridge.coef_: [ 1.11866424e-04 -4.24581709e-04  4.07529139e-03 -9.89688189e-02\n",
      " -3.44400226e-01  1.57719825e-03  3.14531004e+00  8.42416669e-04\n",
      " -2.78359049e-01  6.89186586e-01 -2.15324858e-01]\n",
      "lasso.coef_: [ 1.18583010e-04 -7.76249031e-04  9.86773942e-03 -8.80010624e-02\n",
      " -3.59240929e-01  1.98712939e-03  0.00000000e+00  1.48833536e-03\n",
      " -0.00000000e+00  6.50385193e-01 -2.09946957e-01]\n"
     ]
    }
   ],
   "source": [
    "#coefficients\n",
    "print(\"lr.coef_: {}\".format(lr.coef_))\n",
    "print(\"ridge.coef_: {}\".format(ridge.coef_))\n",
    "print(\"lasso.coef_: {}\".format(lasso.coef_))"
   ]
  },
  {
   "cell_type": "markdown",
   "metadata": {
    "id": "tAHKNzcHqpfP"
   },
   "source": [
    "1.4 Tune the parameters of the models where possible using GridSearchCV. Do the results improve?\n",
    "\n",
    "Yes, the cv scores improve for each model when the best parameters are sued (n_neighbors = 11, for lasso & ridge best parameter was alpha=0.1"
   ]
  },
  {
   "cell_type": "code",
   "execution_count": null,
   "metadata": {
    "colab": {
     "base_uri": "https://localhost:8080/"
    },
    "id": "0jzjFsDeXB6B",
    "outputId": "e0751aca-6468-4b6d-c3ac-8c83f0f29b29"
   },
   "outputs": [
    {
     "name": "stdout",
     "output_type": "stream",
     "text": [
      "best mean cross-validation score: 0.102\n",
      "best parameters: {'n_neighbors': 11}\n",
      "test-set score: 0.183\n"
     ]
    }
   ],
   "source": [
    "from sklearn.model_selection import GridSearchCV\n",
    "x_train, x_test, y_train, y_test = train_test_split(x, y)\n",
    "\n",
    "#create dictionary data object with keys equal to parameter name 'n_neighbors' \n",
    "#for knn model and values equal to range of k values to create models for\n",
    "\n",
    "param_grid = {'n_neighbors': np.arange(1, 15, 2)} #np.arange creates sequence of numbers for each k value\n",
    "\n",
    "grid = GridSearchCV(KNeighborsRegressor(), param_grid=param_grid, cv=10)\n",
    "\n",
    "#use meta model methods to fit score and predict model:\n",
    "grid.fit(x_train, y_train)\n",
    " \n",
    "print(\"best mean cross-validation score: {:.3f}\".format(grid.best_score_))\n",
    "print(\"best parameters: {}\".format(grid.best_params_))\n",
    "print(\"test-set score: {:.3f}\".format(grid.score(x_test, y_test)))"
   ]
  },
  {
   "cell_type": "code",
   "execution_count": null,
   "metadata": {
    "colab": {
     "base_uri": "https://localhost:8080/"
    },
    "id": "TcOuxl-bgauf",
    "outputId": "57861af6-3f0f-4b61-dffc-277844053bf5"
   },
   "outputs": [
    {
     "name": "stdout",
     "output_type": "stream",
     "text": [
      "accuracy:0.20500342959664397\n"
     ]
    }
   ],
   "source": [
    "knn = KNeighborsRegressor(n_neighbors=9)\n",
    "knn.fit(x_train, y_train)\n",
    "print(\"accuracy:\"+str(knn.score(x_test, y_test)))\n",
    "y_pred = knn.predict(x_test)\n"
   ]
  },
  {
   "cell_type": "code",
   "execution_count": null,
   "metadata": {
    "colab": {
     "base_uri": "https://localhost:8080/"
    },
    "id": "mqb1qD0Uga8g",
    "outputId": "2c85e958-07d7-4b2c-86cc-72f65911437d"
   },
   "outputs": [
    {
     "name": "stdout",
     "output_type": "stream",
     "text": [
      "best mean cross-validation score: 0.798\n",
      "best parameters: {'alpha': 0.1}\n",
      "test-set score: 0.800\n"
     ]
    }
   ],
   "source": [
    "param_grid = {'alpha': np.arange(0.1, 10,0.1)}\n",
    "\n",
    "grid = GridSearchCV(Lasso(max_iter=10000), param_grid, cv=5)\n",
    "grid.fit(x_train, y_train)\n",
    "\n",
    "print(\"best mean cross-validation score: {:.3f}\".format(grid.best_score_))\n",
    "print(\"best parameters: {}\".format(grid.best_params_))\n",
    "print(\"test-set score: {:.3f}\".format(grid.score(x_test, y_test)))\n"
   ]
  },
  {
   "cell_type": "code",
   "execution_count": null,
   "metadata": {
    "colab": {
     "base_uri": "https://localhost:8080/"
    },
    "id": "4YwZbYCKic7F",
    "outputId": "467d5d1f-c968-4938-d136-1f28f0f31f95"
   },
   "outputs": [
    {
     "name": "stdout",
     "output_type": "stream",
     "text": [
      "best mean cross-validation score: 0.798\n",
      "best parameters: {'alpha': 0.5}\n",
      "test-set score: 0.800\n"
     ]
    }
   ],
   "source": [
    "param_grid = {'alpha': np.arange(0.1, 10,0.1)}\n",
    "\n",
    "grid = GridSearchCV(Ridge(max_iter=10000), param_grid, cv=5)\n",
    "grid.fit(x_train, y_train)\n",
    "\n",
    "print(\"best mean cross-validation score: {:.3f}\".format(grid.best_score_))\n",
    "print(\"best parameters: {}\".format(grid.best_params_))\n",
    "print(\"test-set score: {:.3f}\".format(grid.score(x_test, y_test)))"
   ]
  },
  {
   "cell_type": "markdown",
   "metadata": {
    "id": "AqZqMLn6qpyU"
   },
   "source": [
    "1.5 Compare the coefficients of your two best linear models (not knn), do they agree on which features are important?\n",
    "\n",
    "my two best models were ridge and lasso according to cross validation scores.\n",
    "\n",
    "you can see that the coefficients are relatively similar so they agree on which features are important. The only difference is that for some of the coefficients in lasso, there were features with a coefficient of 0."
   ]
  },
  {
   "cell_type": "code",
   "execution_count": null,
   "metadata": {
    "colab": {
     "base_uri": "https://localhost:8080/"
    },
    "id": "nSOGYt41eoRz",
    "outputId": "c4b2d43d-da65-461f-d0cf-fa59c321c2b1"
   },
   "outputs": [
    {
     "name": "stdout",
     "output_type": "stream",
     "text": [
      "ridge.coef_: [ 1.11866424e-04 -4.24581709e-04  4.07529139e-03 -9.89688189e-02\n",
      " -3.44400226e-01  1.57719825e-03  3.14531004e+00  8.42416669e-04\n",
      " -2.78359049e-01  6.89186586e-01 -2.15324858e-01]\n",
      "lasso.coef_: [ 1.18583010e-04 -7.76249031e-04  9.86773942e-03 -8.80010624e-02\n",
      " -3.59240929e-01  1.98712939e-03  0.00000000e+00  1.48833536e-03\n",
      " -0.00000000e+00  6.50385193e-01 -2.09946957e-01]\n"
     ]
    }
   ],
   "source": [
    "print(\"ridge.coef_: {}\".format(ridge.coef_))\n",
    "print(\"lasso.coef_: {}\".format(lasso.coef_))"
   ]
  },
  {
   "cell_type": "markdown",
   "metadata": {
    "id": "c9LrjvNOqwfN"
   },
   "source": [
    "1.6 Discuss which final model you would choose to predict new data.\n",
    "\n",
    "I would most likely go with the ridge regression model. it had the best cross validation score amongst the models used."
   ]
  }
 ],
 "metadata": {
  "colab": {
   "collapsed_sections": [],
   "provenance": []
  },
  "kernelspec": {
   "display_name": "Python 3 (ipykernel)",
   "language": "python",
   "name": "python3"
  },
  "language_info": {
   "codemirror_mode": {
    "name": "ipython",
    "version": 3
   },
   "file_extension": ".py",
   "mimetype": "text/x-python",
   "name": "python",
   "nbconvert_exporter": "python",
   "pygments_lexer": "ipython3",
   "version": "3.9.7"
  }
 },
 "nbformat": 4,
 "nbformat_minor": 1
}
